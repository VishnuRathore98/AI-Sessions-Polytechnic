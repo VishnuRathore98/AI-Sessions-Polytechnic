{
  "nbformat": 4,
  "nbformat_minor": 0,
  "metadata": {
    "colab": {
      "provenance": [],
      "gpuType": "T4"
    },
    "kernelspec": {
      "name": "python3",
      "display_name": "Python 3"
    },
    "language_info": {
      "name": "python"
    },
    "accelerator": "GPU"
  },
  "cells": [
    {
      "cell_type": "code",
      "source": [
        "# Install required packages\n",
        "!pip install nltk scikit-learn\n",
        "# Install a library to read PDF files\n",
        "%pip install PyPDF2"
      ],
      "metadata": {
        "id": "zj5R6sbgQa3j",
        "colab": {
          "base_uri": "https://localhost:8080/"
        },
        "outputId": "84a3cf26-82a6-40d2-f4cb-a8ba0f72378d"
      },
      "execution_count": null,
      "outputs": [
        {
          "output_type": "stream",
          "name": "stdout",
          "text": [
            "Requirement already satisfied: nltk in /usr/local/lib/python3.11/dist-packages (3.9.1)\n",
            "Requirement already satisfied: scikit-learn in /usr/local/lib/python3.11/dist-packages (1.6.1)\n",
            "Requirement already satisfied: click in /usr/local/lib/python3.11/dist-packages (from nltk) (8.2.1)\n",
            "Requirement already satisfied: joblib in /usr/local/lib/python3.11/dist-packages (from nltk) (1.5.1)\n",
            "Requirement already satisfied: regex>=2021.8.3 in /usr/local/lib/python3.11/dist-packages (from nltk) (2024.11.6)\n",
            "Requirement already satisfied: tqdm in /usr/local/lib/python3.11/dist-packages (from nltk) (4.67.1)\n",
            "Requirement already satisfied: numpy>=1.19.5 in /usr/local/lib/python3.11/dist-packages (from scikit-learn) (2.0.2)\n",
            "Requirement already satisfied: scipy>=1.6.0 in /usr/local/lib/python3.11/dist-packages (from scikit-learn) (1.15.3)\n",
            "Requirement already satisfied: threadpoolctl>=3.1.0 in /usr/local/lib/python3.11/dist-packages (from scikit-learn) (3.6.0)\n",
            "Collecting PyPDF2\n",
            "  Downloading pypdf2-3.0.1-py3-none-any.whl.metadata (6.8 kB)\n",
            "Downloading pypdf2-3.0.1-py3-none-any.whl (232 kB)\n",
            "\u001b[2K   \u001b[90m━━━━━━━━━━━━━━━━━━━━━━━━━━━━━━━━━━━━━━━━\u001b[0m \u001b[32m232.6/232.6 kB\u001b[0m \u001b[31m5.5 MB/s\u001b[0m eta \u001b[36m0:00:00\u001b[0m\n",
            "\u001b[?25hInstalling collected packages: PyPDF2\n",
            "Successfully installed PyPDF2-3.0.1\n"
          ]
        }
      ]
    },
    {
      "cell_type": "code",
      "source": [
        "import nltk\n",
        "from sklearn.feature_extraction.text import TfidfVectorizer\n",
        "from sklearn.metrics.pairwise import cosine_similarity\n",
        "import numpy as np\n"
      ],
      "metadata": {
        "id": "yIfzPpxrQazb"
      },
      "execution_count": null,
      "outputs": []
    },
    {
      "cell_type": "code",
      "source": [
        "# Download NLTK data (only the first time)\n",
        "nltk.download('punkt_tab')\n"
      ],
      "metadata": {
        "colab": {
          "base_uri": "https://localhost:8080/"
        },
        "id": "aZhZtfBhQave",
        "outputId": "11bcfa31-eb49-4ecd-c836-4c80f12a6a94"
      },
      "execution_count": null,
      "outputs": [
        {
          "output_type": "stream",
          "name": "stderr",
          "text": [
            "[nltk_data] Downloading package punkt_tab to /root/nltk_data...\n",
            "[nltk_data]   Unzipping tokenizers/punkt_tab.zip.\n"
          ]
        },
        {
          "output_type": "execute_result",
          "data": {
            "text/plain": [
              "True"
            ]
          },
          "metadata": {},
          "execution_count": 3
        }
      ]
    },
    {
      "cell_type": "code",
      "source": [
        "# 1. Load the book (can be .txt or .pdf)\n",
        "import PyPDF2\n",
        "\n",
        "book_text = \"\"\n",
        "with open(\"harrypotter.pdf\", \"rb\") as file:\n",
        "    reader = PyPDF2.PdfReader(file)\n",
        "    for page_num in range(len(reader.pages)):\n",
        "        book_text += reader.pages[page_num].extract_text()"
      ],
      "metadata": {
        "id": "Ri9mx8OkQarC"
      },
      "execution_count": null,
      "outputs": []
    },
    {
      "cell_type": "code",
      "source": [
        "# 2. Split book into chunks (sentences or paragraphs)\n",
        "sentences = nltk.sent_tokenize(book_text)\n"
      ],
      "metadata": {
        "id": "8yZnfBF2QaWr"
      },
      "execution_count": null,
      "outputs": []
    },
    {
      "cell_type": "code",
      "source": [
        "# 3. Create a TF-IDF model\n",
        "vectorizer = TfidfVectorizer()\n",
        "sentence_vectors = vectorizer.fit_transform(sentences)\n"
      ],
      "metadata": {
        "id": "eJfWwMv3QmnU"
      },
      "execution_count": null,
      "outputs": []
    },
    {
      "cell_type": "code",
      "source": [
        "# 4. Ask a question\n",
        "question = input(\"Ask something about the book: \")\n"
      ],
      "metadata": {
        "colab": {
          "base_uri": "https://localhost:8080/"
        },
        "id": "jkE0h954Qmi_",
        "outputId": "e1338ed3-55ea-4d52-f339-3489abadf519"
      },
      "execution_count": null,
      "outputs": [
        {
          "name": "stdout",
          "output_type": "stream",
          "text": [
            "Ask something about the book: who is the most powerfull\n"
          ]
        }
      ]
    },
    {
      "cell_type": "code",
      "source": [
        "# 5. Vectorize the question and compare with book content\n",
        "question_vector = vectorizer.transform([question])\n",
        "similarities = cosine_similarity(question_vector, sentence_vectors).flatten()\n"
      ],
      "metadata": {
        "id": "8LFmGhYaQmfI"
      },
      "execution_count": null,
      "outputs": []
    },
    {
      "cell_type": "code",
      "execution_count": null,
      "metadata": {
        "colab": {
          "base_uri": "https://localhost:8080/"
        },
        "id": "Urt63d78OjLY",
        "outputId": "1053342a-0d1b-4103-f9ac-4053d5ea6f0e"
      },
      "outputs": [
        {
          "output_type": "stream",
          "name": "stdout",
          "text": [
            "\n",
            "📘 Answer from the book:\n",
            "most\t.\n"
          ]
        }
      ],
      "source": [
        "# 6. Get the best-matching sentence\n",
        "best_match_index = np.argmax(similarities)\n",
        "best_answer = sentences[best_match_index]\n",
        "\n",
        "print(\"\\n📘 Answer from the book:\")\n",
        "print(best_answer)\n"
      ]
    }
  ]
}