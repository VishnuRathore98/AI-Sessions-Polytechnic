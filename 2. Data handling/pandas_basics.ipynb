{
 "cells": [
  {
   "cell_type": "markdown",
   "id": "f7c35393",
   "metadata": {},
   "source": [
    "## 🐼 Pandas Basics "
   ]
  },
  {
   "cell_type": "markdown",
   "id": "b35dfb82",
   "metadata": {},
   "source": [
    "#### 1. Importing Pandas"
   ]
  },
  {
   "cell_type": "code",
   "execution_count": null,
   "id": "2b96e6cd",
   "metadata": {},
   "outputs": [],
   "source": [
    "# pd is the standard alias for pandas.\n",
    "\n",
    "\n",
    "import pandas as pd"
   ]
  },
  {
   "cell_type": "markdown",
   "id": "19046aba",
   "metadata": {},
   "source": [
    "#### 2. Creating a DataFrame"
   ]
  },
  {
   "cell_type": "code",
   "execution_count": null,
   "id": "096b021e",
   "metadata": {},
   "outputs": [],
   "source": [
    "# Creates a simple table (DataFrame) from a dictionary.\n",
    "\n",
    "\n",
    "data = {'Name': ['Alice', 'Bob', 'Charlie'],\n",
    "        'Age': [25, 30, 35]}\n",
    "df = pd.DataFrame(data)\n",
    "print(df)\n"
   ]
  },
  {
   "cell_type": "markdown",
   "id": "2289eac6",
   "metadata": {},
   "source": [
    "#### 3. Reading a CSV File"
   ]
  },
  {
   "cell_type": "code",
   "execution_count": null,
   "id": "2d36b18b",
   "metadata": {},
   "outputs": [],
   "source": [
    "# Reads data from a CSV file into a DataFrame.\n",
    "\n",
    "\n",
    "df = pd.read_csv('datasets/StudentsPerformance.csv')"
   ]
  },
  {
   "cell_type": "code",
   "execution_count": null,
   "id": "46e01036",
   "metadata": {},
   "outputs": [
    {
     "data": {
      "application/vnd.microsoft.datawrangler.viewer.v0+json": {
       "columns": [
        {
         "name": "index",
         "rawType": "int64",
         "type": "integer"
        },
        {
         "name": "gender",
         "rawType": "object",
         "type": "string"
        },
        {
         "name": "race/ethnicity",
         "rawType": "object",
         "type": "string"
        },
        {
         "name": "parental level of education",
         "rawType": "object",
         "type": "string"
        },
        {
         "name": "lunch",
         "rawType": "object",
         "type": "string"
        },
        {
         "name": "test preparation course",
         "rawType": "object",
         "type": "string"
        },
        {
         "name": "math score",
         "rawType": "int64",
         "type": "integer"
        },
        {
         "name": "reading score",
         "rawType": "int64",
         "type": "integer"
        },
        {
         "name": "writing score",
         "rawType": "int64",
         "type": "integer"
        }
       ],
       "ref": "a1baad05-0e59-48bb-90b7-1324a9e6e5ba",
       "rows": [
        [
         "0",
         "female",
         "group B",
         "bachelor's degree",
         "standard",
         "none",
         "72",
         "72",
         "74"
        ],
        [
         "1",
         "female",
         "group C",
         "some college",
         "standard",
         "completed",
         "69",
         "90",
         "88"
        ],
        [
         "2",
         "female",
         "group B",
         "master's degree",
         "standard",
         "none",
         "90",
         "95",
         "93"
        ],
        [
         "3",
         "male",
         "group A",
         "associate's degree",
         "free/reduced",
         "none",
         "47",
         "57",
         "44"
        ],
        [
         "4",
         "male",
         "group C",
         "some college",
         "standard",
         "none",
         "76",
         "78",
         "75"
        ]
       ],
       "shape": {
        "columns": 8,
        "rows": 5
       }
      },
      "text/html": [
       "<div>\n",
       "<style scoped>\n",
       "    .dataframe tbody tr th:only-of-type {\n",
       "        vertical-align: middle;\n",
       "    }\n",
       "\n",
       "    .dataframe tbody tr th {\n",
       "        vertical-align: top;\n",
       "    }\n",
       "\n",
       "    .dataframe thead th {\n",
       "        text-align: right;\n",
       "    }\n",
       "</style>\n",
       "<table border=\"1\" class=\"dataframe\">\n",
       "  <thead>\n",
       "    <tr style=\"text-align: right;\">\n",
       "      <th></th>\n",
       "      <th>gender</th>\n",
       "      <th>race/ethnicity</th>\n",
       "      <th>parental level of education</th>\n",
       "      <th>lunch</th>\n",
       "      <th>test preparation course</th>\n",
       "      <th>math score</th>\n",
       "      <th>reading score</th>\n",
       "      <th>writing score</th>\n",
       "    </tr>\n",
       "  </thead>\n",
       "  <tbody>\n",
       "    <tr>\n",
       "      <th>0</th>\n",
       "      <td>female</td>\n",
       "      <td>group B</td>\n",
       "      <td>bachelor's degree</td>\n",
       "      <td>standard</td>\n",
       "      <td>none</td>\n",
       "      <td>72</td>\n",
       "      <td>72</td>\n",
       "      <td>74</td>\n",
       "    </tr>\n",
       "    <tr>\n",
       "      <th>1</th>\n",
       "      <td>female</td>\n",
       "      <td>group C</td>\n",
       "      <td>some college</td>\n",
       "      <td>standard</td>\n",
       "      <td>completed</td>\n",
       "      <td>69</td>\n",
       "      <td>90</td>\n",
       "      <td>88</td>\n",
       "    </tr>\n",
       "    <tr>\n",
       "      <th>2</th>\n",
       "      <td>female</td>\n",
       "      <td>group B</td>\n",
       "      <td>master's degree</td>\n",
       "      <td>standard</td>\n",
       "      <td>none</td>\n",
       "      <td>90</td>\n",
       "      <td>95</td>\n",
       "      <td>93</td>\n",
       "    </tr>\n",
       "    <tr>\n",
       "      <th>3</th>\n",
       "      <td>male</td>\n",
       "      <td>group A</td>\n",
       "      <td>associate's degree</td>\n",
       "      <td>free/reduced</td>\n",
       "      <td>none</td>\n",
       "      <td>47</td>\n",
       "      <td>57</td>\n",
       "      <td>44</td>\n",
       "    </tr>\n",
       "    <tr>\n",
       "      <th>4</th>\n",
       "      <td>male</td>\n",
       "      <td>group C</td>\n",
       "      <td>some college</td>\n",
       "      <td>standard</td>\n",
       "      <td>none</td>\n",
       "      <td>76</td>\n",
       "      <td>78</td>\n",
       "      <td>75</td>\n",
       "    </tr>\n",
       "  </tbody>\n",
       "</table>\n",
       "</div>"
      ],
      "text/plain": [
       "   gender race/ethnicity parental level of education         lunch  \\\n",
       "0  female        group B           bachelor's degree      standard   \n",
       "1  female        group C                some college      standard   \n",
       "2  female        group B             master's degree      standard   \n",
       "3    male        group A          associate's degree  free/reduced   \n",
       "4    male        group C                some college      standard   \n",
       "\n",
       "  test preparation course  math score  reading score  writing score  \n",
       "0                    none          72             72             74  \n",
       "1               completed          69             90             88  \n",
       "2                    none          90             95             93  \n",
       "3                    none          47             57             44  \n",
       "4                    none          76             78             75  "
      ]
     },
     "execution_count": 7,
     "metadata": {},
     "output_type": "execute_result"
    }
   ],
   "source": [
    "df.head(n=10)"
   ]
  },
  {
   "cell_type": "markdown",
   "id": "a34608d3",
   "metadata": {},
   "source": [
    "#### 4. Displaying the First / Last Rows"
   ]
  },
  {
   "cell_type": "code",
   "execution_count": null,
   "id": "b8f8642f",
   "metadata": {},
   "outputs": [
    {
     "data": {
      "application/vnd.microsoft.datawrangler.viewer.v0+json": {
       "columns": [
        {
         "name": "index",
         "rawType": "int64",
         "type": "integer"
        },
        {
         "name": "gender",
         "rawType": "object",
         "type": "string"
        },
        {
         "name": "race/ethnicity",
         "rawType": "object",
         "type": "string"
        },
        {
         "name": "parental level of education",
         "rawType": "object",
         "type": "string"
        },
        {
         "name": "lunch",
         "rawType": "object",
         "type": "string"
        },
        {
         "name": "test preparation course",
         "rawType": "object",
         "type": "string"
        },
        {
         "name": "math score",
         "rawType": "int64",
         "type": "integer"
        },
        {
         "name": "reading score",
         "rawType": "int64",
         "type": "integer"
        },
        {
         "name": "writing score",
         "rawType": "int64",
         "type": "integer"
        }
       ],
       "ref": "bccd83c2-d976-410e-8e16-9e041f3718d8",
       "rows": [
        [
         "997",
         "female",
         "group C",
         "high school",
         "free/reduced",
         "completed",
         "59",
         "71",
         "65"
        ],
        [
         "998",
         "female",
         "group D",
         "some college",
         "standard",
         "completed",
         "68",
         "78",
         "77"
        ],
        [
         "999",
         "female",
         "group D",
         "some college",
         "free/reduced",
         "none",
         "77",
         "86",
         "86"
        ]
       ],
       "shape": {
        "columns": 8,
        "rows": 3
       }
      },
      "text/html": [
       "<div>\n",
       "<style scoped>\n",
       "    .dataframe tbody tr th:only-of-type {\n",
       "        vertical-align: middle;\n",
       "    }\n",
       "\n",
       "    .dataframe tbody tr th {\n",
       "        vertical-align: top;\n",
       "    }\n",
       "\n",
       "    .dataframe thead th {\n",
       "        text-align: right;\n",
       "    }\n",
       "</style>\n",
       "<table border=\"1\" class=\"dataframe\">\n",
       "  <thead>\n",
       "    <tr style=\"text-align: right;\">\n",
       "      <th></th>\n",
       "      <th>gender</th>\n",
       "      <th>race/ethnicity</th>\n",
       "      <th>parental level of education</th>\n",
       "      <th>lunch</th>\n",
       "      <th>test preparation course</th>\n",
       "      <th>math score</th>\n",
       "      <th>reading score</th>\n",
       "      <th>writing score</th>\n",
       "    </tr>\n",
       "  </thead>\n",
       "  <tbody>\n",
       "    <tr>\n",
       "      <th>997</th>\n",
       "      <td>female</td>\n",
       "      <td>group C</td>\n",
       "      <td>high school</td>\n",
       "      <td>free/reduced</td>\n",
       "      <td>completed</td>\n",
       "      <td>59</td>\n",
       "      <td>71</td>\n",
       "      <td>65</td>\n",
       "    </tr>\n",
       "    <tr>\n",
       "      <th>998</th>\n",
       "      <td>female</td>\n",
       "      <td>group D</td>\n",
       "      <td>some college</td>\n",
       "      <td>standard</td>\n",
       "      <td>completed</td>\n",
       "      <td>68</td>\n",
       "      <td>78</td>\n",
       "      <td>77</td>\n",
       "    </tr>\n",
       "    <tr>\n",
       "      <th>999</th>\n",
       "      <td>female</td>\n",
       "      <td>group D</td>\n",
       "      <td>some college</td>\n",
       "      <td>free/reduced</td>\n",
       "      <td>none</td>\n",
       "      <td>77</td>\n",
       "      <td>86</td>\n",
       "      <td>86</td>\n",
       "    </tr>\n",
       "  </tbody>\n",
       "</table>\n",
       "</div>"
      ],
      "text/plain": [
       "     gender race/ethnicity parental level of education         lunch  \\\n",
       "997  female        group C                 high school  free/reduced   \n",
       "998  female        group D                some college      standard   \n",
       "999  female        group D                some college  free/reduced   \n",
       "\n",
       "    test preparation course  math score  reading score  writing score  \n",
       "997               completed          59             71             65  \n",
       "998               completed          68             78             77  \n",
       "999                    none          77             86             86  "
      ]
     },
     "execution_count": 6,
     "metadata": {},
     "output_type": "execute_result"
    }
   ],
   "source": [
    "# Helps you preview the data.\n",
    "\n",
    "# print(df.head())     # First 5 rows\n",
    "df.tail(3)    # Last 3 rows\n"
   ]
  },
  {
   "cell_type": "markdown",
   "id": "da9f75f1",
   "metadata": {},
   "source": [
    "#### 5. Getting Basic Info"
   ]
  },
  {
   "cell_type": "code",
   "execution_count": null,
   "id": "d9ee38c6",
   "metadata": {},
   "outputs": [
    {
     "data": {
      "application/vnd.microsoft.datawrangler.viewer.v0+json": {
       "columns": [
        {
         "name": "index",
         "rawType": "object",
         "type": "string"
        },
        {
         "name": "math score",
         "rawType": "float64",
         "type": "float"
        },
        {
         "name": "reading score",
         "rawType": "float64",
         "type": "float"
        },
        {
         "name": "writing score",
         "rawType": "float64",
         "type": "float"
        }
       ],
       "ref": "a19a0a15-95b4-47a8-a58a-1f2cceb76c86",
       "rows": [
        [
         "count",
         "1000.0",
         "1000.0",
         "1000.0"
        ],
        [
         "mean",
         "66.089",
         "69.169",
         "68.054"
        ],
        [
         "std",
         "15.16308009600945",
         "14.600191937252216",
         "15.19565701086965"
        ],
        [
         "min",
         "0.0",
         "17.0",
         "10.0"
        ],
        [
         "25%",
         "57.0",
         "59.0",
         "57.75"
        ],
        [
         "50%",
         "66.0",
         "70.0",
         "69.0"
        ],
        [
         "75%",
         "77.0",
         "79.0",
         "79.0"
        ],
        [
         "max",
         "100.0",
         "100.0",
         "100.0"
        ]
       ],
       "shape": {
        "columns": 3,
        "rows": 8
       }
      },
      "text/html": [
       "<div>\n",
       "<style scoped>\n",
       "    .dataframe tbody tr th:only-of-type {\n",
       "        vertical-align: middle;\n",
       "    }\n",
       "\n",
       "    .dataframe tbody tr th {\n",
       "        vertical-align: top;\n",
       "    }\n",
       "\n",
       "    .dataframe thead th {\n",
       "        text-align: right;\n",
       "    }\n",
       "</style>\n",
       "<table border=\"1\" class=\"dataframe\">\n",
       "  <thead>\n",
       "    <tr style=\"text-align: right;\">\n",
       "      <th></th>\n",
       "      <th>math score</th>\n",
       "      <th>reading score</th>\n",
       "      <th>writing score</th>\n",
       "    </tr>\n",
       "  </thead>\n",
       "  <tbody>\n",
       "    <tr>\n",
       "      <th>count</th>\n",
       "      <td>1000.00000</td>\n",
       "      <td>1000.000000</td>\n",
       "      <td>1000.000000</td>\n",
       "    </tr>\n",
       "    <tr>\n",
       "      <th>mean</th>\n",
       "      <td>66.08900</td>\n",
       "      <td>69.169000</td>\n",
       "      <td>68.054000</td>\n",
       "    </tr>\n",
       "    <tr>\n",
       "      <th>std</th>\n",
       "      <td>15.16308</td>\n",
       "      <td>14.600192</td>\n",
       "      <td>15.195657</td>\n",
       "    </tr>\n",
       "    <tr>\n",
       "      <th>min</th>\n",
       "      <td>0.00000</td>\n",
       "      <td>17.000000</td>\n",
       "      <td>10.000000</td>\n",
       "    </tr>\n",
       "    <tr>\n",
       "      <th>25%</th>\n",
       "      <td>57.00000</td>\n",
       "      <td>59.000000</td>\n",
       "      <td>57.750000</td>\n",
       "    </tr>\n",
       "    <tr>\n",
       "      <th>50%</th>\n",
       "      <td>66.00000</td>\n",
       "      <td>70.000000</td>\n",
       "      <td>69.000000</td>\n",
       "    </tr>\n",
       "    <tr>\n",
       "      <th>75%</th>\n",
       "      <td>77.00000</td>\n",
       "      <td>79.000000</td>\n",
       "      <td>79.000000</td>\n",
       "    </tr>\n",
       "    <tr>\n",
       "      <th>max</th>\n",
       "      <td>100.00000</td>\n",
       "      <td>100.000000</td>\n",
       "      <td>100.000000</td>\n",
       "    </tr>\n",
       "  </tbody>\n",
       "</table>\n",
       "</div>"
      ],
      "text/plain": [
       "       math score  reading score  writing score\n",
       "count  1000.00000    1000.000000    1000.000000\n",
       "mean     66.08900      69.169000      68.054000\n",
       "std      15.16308      14.600192      15.195657\n",
       "min       0.00000      17.000000      10.000000\n",
       "25%      57.00000      59.000000      57.750000\n",
       "50%      66.00000      70.000000      69.000000\n",
       "75%      77.00000      79.000000      79.000000\n",
       "max     100.00000     100.000000     100.000000"
      ]
     },
     "execution_count": 9,
     "metadata": {},
     "output_type": "execute_result"
    }
   ],
   "source": [
    "# .info() shows column types & missing values; .describe() gives stats.\n",
    "\n",
    "\n",
    "# df.info()\n",
    "df.describe()"
   ]
  },
  {
   "cell_type": "code",
   "execution_count": 10,
   "id": "c6249c68",
   "metadata": {},
   "outputs": [
    {
     "data": {
      "application/vnd.microsoft.datawrangler.viewer.v0+json": {
       "columns": [
        {
         "name": "index",
         "rawType": "int64",
         "type": "integer"
        },
        {
         "name": "gender",
         "rawType": "object",
         "type": "string"
        },
        {
         "name": "race/ethnicity",
         "rawType": "object",
         "type": "string"
        },
        {
         "name": "parental level of education",
         "rawType": "object",
         "type": "string"
        },
        {
         "name": "lunch",
         "rawType": "object",
         "type": "string"
        },
        {
         "name": "test preparation course",
         "rawType": "object",
         "type": "string"
        },
        {
         "name": "math score",
         "rawType": "int64",
         "type": "integer"
        },
        {
         "name": "reading score",
         "rawType": "int64",
         "type": "integer"
        },
        {
         "name": "writing score",
         "rawType": "int64",
         "type": "integer"
        }
       ],
       "ref": "7bb7ec86-1683-4fe7-80ae-a668b72c07f5",
       "rows": [
        [
         "0",
         "female",
         "group B",
         "bachelor's degree",
         "standard",
         "none",
         "72",
         "72",
         "74"
        ],
        [
         "1",
         "female",
         "group C",
         "some college",
         "standard",
         "completed",
         "69",
         "90",
         "88"
        ],
        [
         "2",
         "female",
         "group B",
         "master's degree",
         "standard",
         "none",
         "90",
         "95",
         "93"
        ],
        [
         "3",
         "male",
         "group A",
         "associate's degree",
         "free/reduced",
         "none",
         "47",
         "57",
         "44"
        ],
        [
         "4",
         "male",
         "group C",
         "some college",
         "standard",
         "none",
         "76",
         "78",
         "75"
        ]
       ],
       "shape": {
        "columns": 8,
        "rows": 5
       }
      },
      "text/html": [
       "<div>\n",
       "<style scoped>\n",
       "    .dataframe tbody tr th:only-of-type {\n",
       "        vertical-align: middle;\n",
       "    }\n",
       "\n",
       "    .dataframe tbody tr th {\n",
       "        vertical-align: top;\n",
       "    }\n",
       "\n",
       "    .dataframe thead th {\n",
       "        text-align: right;\n",
       "    }\n",
       "</style>\n",
       "<table border=\"1\" class=\"dataframe\">\n",
       "  <thead>\n",
       "    <tr style=\"text-align: right;\">\n",
       "      <th></th>\n",
       "      <th>gender</th>\n",
       "      <th>race/ethnicity</th>\n",
       "      <th>parental level of education</th>\n",
       "      <th>lunch</th>\n",
       "      <th>test preparation course</th>\n",
       "      <th>math score</th>\n",
       "      <th>reading score</th>\n",
       "      <th>writing score</th>\n",
       "    </tr>\n",
       "  </thead>\n",
       "  <tbody>\n",
       "    <tr>\n",
       "      <th>0</th>\n",
       "      <td>female</td>\n",
       "      <td>group B</td>\n",
       "      <td>bachelor's degree</td>\n",
       "      <td>standard</td>\n",
       "      <td>none</td>\n",
       "      <td>72</td>\n",
       "      <td>72</td>\n",
       "      <td>74</td>\n",
       "    </tr>\n",
       "    <tr>\n",
       "      <th>1</th>\n",
       "      <td>female</td>\n",
       "      <td>group C</td>\n",
       "      <td>some college</td>\n",
       "      <td>standard</td>\n",
       "      <td>completed</td>\n",
       "      <td>69</td>\n",
       "      <td>90</td>\n",
       "      <td>88</td>\n",
       "    </tr>\n",
       "    <tr>\n",
       "      <th>2</th>\n",
       "      <td>female</td>\n",
       "      <td>group B</td>\n",
       "      <td>master's degree</td>\n",
       "      <td>standard</td>\n",
       "      <td>none</td>\n",
       "      <td>90</td>\n",
       "      <td>95</td>\n",
       "      <td>93</td>\n",
       "    </tr>\n",
       "    <tr>\n",
       "      <th>3</th>\n",
       "      <td>male</td>\n",
       "      <td>group A</td>\n",
       "      <td>associate's degree</td>\n",
       "      <td>free/reduced</td>\n",
       "      <td>none</td>\n",
       "      <td>47</td>\n",
       "      <td>57</td>\n",
       "      <td>44</td>\n",
       "    </tr>\n",
       "    <tr>\n",
       "      <th>4</th>\n",
       "      <td>male</td>\n",
       "      <td>group C</td>\n",
       "      <td>some college</td>\n",
       "      <td>standard</td>\n",
       "      <td>none</td>\n",
       "      <td>76</td>\n",
       "      <td>78</td>\n",
       "      <td>75</td>\n",
       "    </tr>\n",
       "  </tbody>\n",
       "</table>\n",
       "</div>"
      ],
      "text/plain": [
       "   gender race/ethnicity parental level of education         lunch  \\\n",
       "0  female        group B           bachelor's degree      standard   \n",
       "1  female        group C                some college      standard   \n",
       "2  female        group B             master's degree      standard   \n",
       "3    male        group A          associate's degree  free/reduced   \n",
       "4    male        group C                some college      standard   \n",
       "\n",
       "  test preparation course  math score  reading score  writing score  \n",
       "0                    none          72             72             74  \n",
       "1               completed          69             90             88  \n",
       "2                    none          90             95             93  \n",
       "3                    none          47             57             44  \n",
       "4                    none          76             78             75  "
      ]
     },
     "execution_count": 10,
     "metadata": {},
     "output_type": "execute_result"
    }
   ],
   "source": [
    "df.head()"
   ]
  },
  {
   "cell_type": "markdown",
   "id": "4a06d355",
   "metadata": {},
   "source": [
    "#### 6. Selecting Columns"
   ]
  },
  {
   "cell_type": "code",
   "execution_count": null,
   "id": "ef625ca3",
   "metadata": {},
   "outputs": [
    {
     "data": {
      "application/vnd.microsoft.datawrangler.viewer.v0+json": {
       "columns": [
        {
         "name": "index",
         "rawType": "int64",
         "type": "integer"
        },
        {
         "name": "math score",
         "rawType": "int64",
         "type": "integer"
        },
        {
         "name": "gender",
         "rawType": "object",
         "type": "string"
        }
       ],
       "ref": "bc530392-1993-4fc2-8f98-5ecb49efb5ec",
       "rows": [
        [
         "0",
         "72",
         "female"
        ],
        [
         "1",
         "69",
         "female"
        ],
        [
         "2",
         "90",
         "female"
        ],
        [
         "3",
         "47",
         "male"
        ],
        [
         "4",
         "76",
         "male"
        ],
        [
         "5",
         "71",
         "female"
        ],
        [
         "6",
         "88",
         "female"
        ],
        [
         "7",
         "40",
         "male"
        ],
        [
         "8",
         "64",
         "male"
        ],
        [
         "9",
         "38",
         "female"
        ],
        [
         "10",
         "58",
         "male"
        ],
        [
         "11",
         "40",
         "male"
        ],
        [
         "12",
         "65",
         "female"
        ],
        [
         "13",
         "78",
         "male"
        ],
        [
         "14",
         "50",
         "female"
        ],
        [
         "15",
         "69",
         "female"
        ],
        [
         "16",
         "88",
         "male"
        ],
        [
         "17",
         "18",
         "female"
        ],
        [
         "18",
         "46",
         "male"
        ],
        [
         "19",
         "54",
         "female"
        ],
        [
         "20",
         "66",
         "male"
        ],
        [
         "21",
         "65",
         "female"
        ],
        [
         "22",
         "44",
         "male"
        ],
        [
         "23",
         "69",
         "female"
        ],
        [
         "24",
         "74",
         "male"
        ],
        [
         "25",
         "73",
         "male"
        ],
        [
         "26",
         "69",
         "male"
        ],
        [
         "27",
         "67",
         "female"
        ],
        [
         "28",
         "70",
         "male"
        ],
        [
         "29",
         "62",
         "female"
        ],
        [
         "30",
         "69",
         "female"
        ],
        [
         "31",
         "63",
         "female"
        ],
        [
         "32",
         "56",
         "female"
        ],
        [
         "33",
         "40",
         "male"
        ],
        [
         "34",
         "97",
         "male"
        ],
        [
         "35",
         "81",
         "male"
        ],
        [
         "36",
         "74",
         "female"
        ],
        [
         "37",
         "50",
         "female"
        ],
        [
         "38",
         "75",
         "female"
        ],
        [
         "39",
         "57",
         "male"
        ],
        [
         "40",
         "55",
         "male"
        ],
        [
         "41",
         "58",
         "female"
        ],
        [
         "42",
         "53",
         "female"
        ],
        [
         "43",
         "59",
         "male"
        ],
        [
         "44",
         "50",
         "female"
        ],
        [
         "45",
         "65",
         "male"
        ],
        [
         "46",
         "55",
         "female"
        ],
        [
         "47",
         "66",
         "female"
        ],
        [
         "48",
         "57",
         "female"
        ],
        [
         "49",
         "82",
         "male"
        ]
       ],
       "shape": {
        "columns": 2,
        "rows": 1000
       }
      },
      "text/html": [
       "<div>\n",
       "<style scoped>\n",
       "    .dataframe tbody tr th:only-of-type {\n",
       "        vertical-align: middle;\n",
       "    }\n",
       "\n",
       "    .dataframe tbody tr th {\n",
       "        vertical-align: top;\n",
       "    }\n",
       "\n",
       "    .dataframe thead th {\n",
       "        text-align: right;\n",
       "    }\n",
       "</style>\n",
       "<table border=\"1\" class=\"dataframe\">\n",
       "  <thead>\n",
       "    <tr style=\"text-align: right;\">\n",
       "      <th></th>\n",
       "      <th>math score</th>\n",
       "      <th>gender</th>\n",
       "    </tr>\n",
       "  </thead>\n",
       "  <tbody>\n",
       "    <tr>\n",
       "      <th>0</th>\n",
       "      <td>72</td>\n",
       "      <td>female</td>\n",
       "    </tr>\n",
       "    <tr>\n",
       "      <th>1</th>\n",
       "      <td>69</td>\n",
       "      <td>female</td>\n",
       "    </tr>\n",
       "    <tr>\n",
       "      <th>2</th>\n",
       "      <td>90</td>\n",
       "      <td>female</td>\n",
       "    </tr>\n",
       "    <tr>\n",
       "      <th>3</th>\n",
       "      <td>47</td>\n",
       "      <td>male</td>\n",
       "    </tr>\n",
       "    <tr>\n",
       "      <th>4</th>\n",
       "      <td>76</td>\n",
       "      <td>male</td>\n",
       "    </tr>\n",
       "    <tr>\n",
       "      <th>...</th>\n",
       "      <td>...</td>\n",
       "      <td>...</td>\n",
       "    </tr>\n",
       "    <tr>\n",
       "      <th>995</th>\n",
       "      <td>88</td>\n",
       "      <td>female</td>\n",
       "    </tr>\n",
       "    <tr>\n",
       "      <th>996</th>\n",
       "      <td>62</td>\n",
       "      <td>male</td>\n",
       "    </tr>\n",
       "    <tr>\n",
       "      <th>997</th>\n",
       "      <td>59</td>\n",
       "      <td>female</td>\n",
       "    </tr>\n",
       "    <tr>\n",
       "      <th>998</th>\n",
       "      <td>68</td>\n",
       "      <td>female</td>\n",
       "    </tr>\n",
       "    <tr>\n",
       "      <th>999</th>\n",
       "      <td>77</td>\n",
       "      <td>female</td>\n",
       "    </tr>\n",
       "  </tbody>\n",
       "</table>\n",
       "<p>1000 rows × 2 columns</p>\n",
       "</div>"
      ],
      "text/plain": [
       "     math score  gender\n",
       "0            72  female\n",
       "1            69  female\n",
       "2            90  female\n",
       "3            47    male\n",
       "4            76    male\n",
       "..          ...     ...\n",
       "995          88  female\n",
       "996          62    male\n",
       "997          59  female\n",
       "998          68  female\n",
       "999          77  female\n",
       "\n",
       "[1000 rows x 2 columns]"
      ]
     },
     "execution_count": 13,
     "metadata": {},
     "output_type": "execute_result"
    }
   ],
   "source": [
    "# Access specific columns using brackets.\n",
    "\n",
    "\n",
    "df[['math score','gender']]                  # Single column\n",
    "# df[['Name', 'Math']]       # Multiple columns\n"
   ]
  },
  {
   "cell_type": "markdown",
   "id": "4f4f0224",
   "metadata": {},
   "source": [
    "#### 7. Filtering Rows (Condition)"
   ]
  },
  {
   "cell_type": "code",
   "execution_count": null,
   "id": "de9644fe",
   "metadata": {},
   "outputs": [
    {
     "data": {
      "application/vnd.microsoft.datawrangler.viewer.v0+json": {
       "columns": [
        {
         "name": "index",
         "rawType": "int64",
         "type": "integer"
        },
        {
         "name": "gender",
         "rawType": "object",
         "type": "string"
        },
        {
         "name": "race/ethnicity",
         "rawType": "object",
         "type": "string"
        },
        {
         "name": "parental level of education",
         "rawType": "object",
         "type": "string"
        },
        {
         "name": "lunch",
         "rawType": "object",
         "type": "string"
        },
        {
         "name": "test preparation course",
         "rawType": "object",
         "type": "string"
        },
        {
         "name": "math score",
         "rawType": "int64",
         "type": "integer"
        },
        {
         "name": "reading score",
         "rawType": "int64",
         "type": "integer"
        },
        {
         "name": "writing score",
         "rawType": "int64",
         "type": "integer"
        }
       ],
       "ref": "7f8d044e-c385-42f5-8fe3-29288285cd59",
       "rows": [
        [
         "0",
         "female",
         "group B",
         "bachelor's degree",
         "standard",
         "none",
         "72",
         "72",
         "74"
        ],
        [
         "2",
         "female",
         "group B",
         "master's degree",
         "standard",
         "none",
         "90",
         "95",
         "93"
        ],
        [
         "4",
         "male",
         "group C",
         "some college",
         "standard",
         "none",
         "76",
         "78",
         "75"
        ],
        [
         "5",
         "female",
         "group B",
         "associate's degree",
         "standard",
         "none",
         "71",
         "83",
         "78"
        ],
        [
         "6",
         "female",
         "group B",
         "some college",
         "standard",
         "completed",
         "88",
         "95",
         "92"
        ],
        [
         "13",
         "male",
         "group A",
         "some college",
         "standard",
         "completed",
         "78",
         "72",
         "70"
        ],
        [
         "16",
         "male",
         "group C",
         "high school",
         "standard",
         "none",
         "88",
         "89",
         "86"
        ],
        [
         "24",
         "male",
         "group D",
         "bachelor's degree",
         "free/reduced",
         "completed",
         "74",
         "71",
         "80"
        ],
        [
         "25",
         "male",
         "group A",
         "master's degree",
         "free/reduced",
         "none",
         "73",
         "74",
         "72"
        ],
        [
         "34",
         "male",
         "group E",
         "some college",
         "standard",
         "none",
         "97",
         "87",
         "82"
        ],
        [
         "35",
         "male",
         "group E",
         "associate's degree",
         "standard",
         "completed",
         "81",
         "81",
         "79"
        ],
        [
         "36",
         "female",
         "group D",
         "associate's degree",
         "standard",
         "none",
         "74",
         "81",
         "83"
        ],
        [
         "38",
         "female",
         "group D",
         "associate's degree",
         "free/reduced",
         "completed",
         "75",
         "90",
         "88"
        ],
        [
         "49",
         "male",
         "group C",
         "high school",
         "standard",
         "completed",
         "82",
         "84",
         "82"
        ],
        [
         "51",
         "male",
         "group E",
         "associate's degree",
         "free/reduced",
         "completed",
         "77",
         "69",
         "68"
        ],
        [
         "53",
         "male",
         "group D",
         "high school",
         "standard",
         "none",
         "88",
         "78",
         "75"
        ],
        [
         "54",
         "female",
         "group C",
         "some high school",
         "free/reduced",
         "completed",
         "71",
         "84",
         "87"
        ],
        [
         "56",
         "female",
         "group E",
         "associate's degree",
         "standard",
         "completed",
         "82",
         "85",
         "86"
        ],
        [
         "60",
         "male",
         "group E",
         "bachelor's degree",
         "free/reduced",
         "completed",
         "79",
         "74",
         "72"
        ],
        [
         "77",
         "male",
         "group A",
         "bachelor's degree",
         "standard",
         "completed",
         "80",
         "78",
         "81"
        ],
        [
         "83",
         "male",
         "group E",
         "associate's degree",
         "standard",
         "none",
         "72",
         "64",
         "63"
        ],
        [
         "85",
         "female",
         "group C",
         "some college",
         "standard",
         "none",
         "73",
         "80",
         "82"
        ],
        [
         "86",
         "female",
         "group C",
         "some college",
         "free/reduced",
         "none",
         "76",
         "83",
         "88"
        ],
        [
         "87",
         "female",
         "group D",
         "associate's degree",
         "standard",
         "none",
         "71",
         "71",
         "74"
        ],
        [
         "89",
         "female",
         "group D",
         "some high school",
         "standard",
         "none",
         "73",
         "86",
         "82"
        ],
        [
         "92",
         "male",
         "group C",
         "high school",
         "standard",
         "none",
         "71",
         "79",
         "71"
        ],
        [
         "94",
         "female",
         "group B",
         "some college",
         "standard",
         "none",
         "79",
         "86",
         "92"
        ],
        [
         "95",
         "male",
         "group C",
         "associate's degree",
         "free/reduced",
         "completed",
         "78",
         "81",
         "82"
        ],
        [
         "100",
         "male",
         "group B",
         "some college",
         "standard",
         "none",
         "79",
         "67",
         "67"
        ],
        [
         "102",
         "female",
         "group D",
         "associate's degree",
         "standard",
         "none",
         "85",
         "91",
         "89"
        ],
        [
         "104",
         "male",
         "group C",
         "some college",
         "standard",
         "completed",
         "98",
         "86",
         "90"
        ],
        [
         "106",
         "female",
         "group D",
         "master's degree",
         "standard",
         "none",
         "87",
         "100",
         "100"
        ],
        [
         "110",
         "female",
         "group D",
         "associate's degree",
         "free/reduced",
         "completed",
         "77",
         "89",
         "98"
        ],
        [
         "114",
         "female",
         "group E",
         "bachelor's degree",
         "standard",
         "completed",
         "99",
         "100",
         "100"
        ],
        [
         "115",
         "male",
         "group C",
         "high school",
         "standard",
         "none",
         "84",
         "77",
         "74"
        ],
        [
         "116",
         "female",
         "group B",
         "bachelor's degree",
         "free/reduced",
         "none",
         "75",
         "85",
         "82"
        ],
        [
         "117",
         "female",
         "group D",
         "bachelor's degree",
         "standard",
         "none",
         "78",
         "82",
         "79"
        ],
        [
         "120",
         "female",
         "group C",
         "bachelor's degree",
         "standard",
         "completed",
         "79",
         "92",
         "89"
        ],
        [
         "121",
         "male",
         "group B",
         "associate's degree",
         "standard",
         "completed",
         "91",
         "89",
         "92"
        ],
        [
         "122",
         "female",
         "group C",
         "some college",
         "standard",
         "completed",
         "88",
         "93",
         "93"
        ],
        [
         "124",
         "male",
         "group E",
         "some college",
         "standard",
         "none",
         "83",
         "80",
         "73"
        ],
        [
         "125",
         "female",
         "group B",
         "high school",
         "standard",
         "none",
         "87",
         "95",
         "86"
        ],
        [
         "126",
         "male",
         "group B",
         "some high school",
         "standard",
         "none",
         "72",
         "68",
         "67"
        ],
        [
         "128",
         "male",
         "group D",
         "master's degree",
         "standard",
         "none",
         "82",
         "82",
         "74"
        ],
        [
         "130",
         "male",
         "group D",
         "master's degree",
         "standard",
         "none",
         "89",
         "84",
         "82"
        ],
        [
         "132",
         "male",
         "group E",
         "some college",
         "free/reduced",
         "completed",
         "87",
         "74",
         "70"
        ],
        [
         "133",
         "female",
         "group C",
         "some college",
         "standard",
         "completed",
         "75",
         "81",
         "84"
        ],
        [
         "134",
         "male",
         "group D",
         "bachelor's degree",
         "free/reduced",
         "completed",
         "74",
         "79",
         "75"
        ],
        [
         "139",
         "male",
         "group D",
         "some college",
         "standard",
         "completed",
         "71",
         "61",
         "69"
        ],
        [
         "140",
         "female",
         "group D",
         "some high school",
         "standard",
         "none",
         "76",
         "72",
         "71"
        ]
       ],
       "shape": {
        "columns": 8,
        "rows": 391
       }
      },
      "text/html": [
       "<div>\n",
       "<style scoped>\n",
       "    .dataframe tbody tr th:only-of-type {\n",
       "        vertical-align: middle;\n",
       "    }\n",
       "\n",
       "    .dataframe tbody tr th {\n",
       "        vertical-align: top;\n",
       "    }\n",
       "\n",
       "    .dataframe thead th {\n",
       "        text-align: right;\n",
       "    }\n",
       "</style>\n",
       "<table border=\"1\" class=\"dataframe\">\n",
       "  <thead>\n",
       "    <tr style=\"text-align: right;\">\n",
       "      <th></th>\n",
       "      <th>gender</th>\n",
       "      <th>race/ethnicity</th>\n",
       "      <th>parental level of education</th>\n",
       "      <th>lunch</th>\n",
       "      <th>test preparation course</th>\n",
       "      <th>math score</th>\n",
       "      <th>reading score</th>\n",
       "      <th>writing score</th>\n",
       "    </tr>\n",
       "  </thead>\n",
       "  <tbody>\n",
       "    <tr>\n",
       "      <th>0</th>\n",
       "      <td>female</td>\n",
       "      <td>group B</td>\n",
       "      <td>bachelor's degree</td>\n",
       "      <td>standard</td>\n",
       "      <td>none</td>\n",
       "      <td>72</td>\n",
       "      <td>72</td>\n",
       "      <td>74</td>\n",
       "    </tr>\n",
       "    <tr>\n",
       "      <th>2</th>\n",
       "      <td>female</td>\n",
       "      <td>group B</td>\n",
       "      <td>master's degree</td>\n",
       "      <td>standard</td>\n",
       "      <td>none</td>\n",
       "      <td>90</td>\n",
       "      <td>95</td>\n",
       "      <td>93</td>\n",
       "    </tr>\n",
       "    <tr>\n",
       "      <th>4</th>\n",
       "      <td>male</td>\n",
       "      <td>group C</td>\n",
       "      <td>some college</td>\n",
       "      <td>standard</td>\n",
       "      <td>none</td>\n",
       "      <td>76</td>\n",
       "      <td>78</td>\n",
       "      <td>75</td>\n",
       "    </tr>\n",
       "    <tr>\n",
       "      <th>5</th>\n",
       "      <td>female</td>\n",
       "      <td>group B</td>\n",
       "      <td>associate's degree</td>\n",
       "      <td>standard</td>\n",
       "      <td>none</td>\n",
       "      <td>71</td>\n",
       "      <td>83</td>\n",
       "      <td>78</td>\n",
       "    </tr>\n",
       "    <tr>\n",
       "      <th>6</th>\n",
       "      <td>female</td>\n",
       "      <td>group B</td>\n",
       "      <td>some college</td>\n",
       "      <td>standard</td>\n",
       "      <td>completed</td>\n",
       "      <td>88</td>\n",
       "      <td>95</td>\n",
       "      <td>92</td>\n",
       "    </tr>\n",
       "    <tr>\n",
       "      <th>...</th>\n",
       "      <td>...</td>\n",
       "      <td>...</td>\n",
       "      <td>...</td>\n",
       "      <td>...</td>\n",
       "      <td>...</td>\n",
       "      <td>...</td>\n",
       "      <td>...</td>\n",
       "      <td>...</td>\n",
       "    </tr>\n",
       "    <tr>\n",
       "      <th>984</th>\n",
       "      <td>female</td>\n",
       "      <td>group C</td>\n",
       "      <td>some high school</td>\n",
       "      <td>standard</td>\n",
       "      <td>none</td>\n",
       "      <td>74</td>\n",
       "      <td>75</td>\n",
       "      <td>82</td>\n",
       "    </tr>\n",
       "    <tr>\n",
       "      <th>987</th>\n",
       "      <td>male</td>\n",
       "      <td>group E</td>\n",
       "      <td>some high school</td>\n",
       "      <td>standard</td>\n",
       "      <td>completed</td>\n",
       "      <td>81</td>\n",
       "      <td>75</td>\n",
       "      <td>76</td>\n",
       "    </tr>\n",
       "    <tr>\n",
       "      <th>990</th>\n",
       "      <td>male</td>\n",
       "      <td>group E</td>\n",
       "      <td>high school</td>\n",
       "      <td>free/reduced</td>\n",
       "      <td>completed</td>\n",
       "      <td>86</td>\n",
       "      <td>81</td>\n",
       "      <td>75</td>\n",
       "    </tr>\n",
       "    <tr>\n",
       "      <th>995</th>\n",
       "      <td>female</td>\n",
       "      <td>group E</td>\n",
       "      <td>master's degree</td>\n",
       "      <td>standard</td>\n",
       "      <td>completed</td>\n",
       "      <td>88</td>\n",
       "      <td>99</td>\n",
       "      <td>95</td>\n",
       "    </tr>\n",
       "    <tr>\n",
       "      <th>999</th>\n",
       "      <td>female</td>\n",
       "      <td>group D</td>\n",
       "      <td>some college</td>\n",
       "      <td>free/reduced</td>\n",
       "      <td>none</td>\n",
       "      <td>77</td>\n",
       "      <td>86</td>\n",
       "      <td>86</td>\n",
       "    </tr>\n",
       "  </tbody>\n",
       "</table>\n",
       "<p>391 rows × 8 columns</p>\n",
       "</div>"
      ],
      "text/plain": [
       "     gender race/ethnicity parental level of education         lunch  \\\n",
       "0    female        group B           bachelor's degree      standard   \n",
       "2    female        group B             master's degree      standard   \n",
       "4      male        group C                some college      standard   \n",
       "5    female        group B          associate's degree      standard   \n",
       "6    female        group B                some college      standard   \n",
       "..      ...            ...                         ...           ...   \n",
       "984  female        group C            some high school      standard   \n",
       "987    male        group E            some high school      standard   \n",
       "990    male        group E                 high school  free/reduced   \n",
       "995  female        group E             master's degree      standard   \n",
       "999  female        group D                some college  free/reduced   \n",
       "\n",
       "    test preparation course  math score  reading score  writing score  \n",
       "0                      none          72             72             74  \n",
       "2                      none          90             95             93  \n",
       "4                      none          76             78             75  \n",
       "5                      none          71             83             78  \n",
       "6                 completed          88             95             92  \n",
       "..                      ...         ...            ...            ...  \n",
       "984                    none          74             75             82  \n",
       "987               completed          81             75             76  \n",
       "990               completed          86             81             75  \n",
       "995               completed          88             99             95  \n",
       "999                    none          77             86             86  \n",
       "\n",
       "[391 rows x 8 columns]"
      ]
     },
     "execution_count": 16,
     "metadata": {},
     "output_type": "execute_result"
    }
   ],
   "source": [
    "\n",
    "\n",
    "math_marks = df[df['math score'] > 70]\n",
    "math_marks\n"
   ]
  },
  {
   "cell_type": "markdown",
   "id": "fab9215c",
   "metadata": {},
   "source": [
    "#### 8. Adding a New Column"
   ]
  },
  {
   "cell_type": "code",
   "execution_count": null,
   "id": "3124afbc",
   "metadata": {},
   "outputs": [],
   "source": [
    "# Creates a new column based on existing data.\n",
    "\n",
    "df['Total Marks'] = df['math score'] + df['reading score'] + df['writing score']"
   ]
  },
  {
   "cell_type": "code",
   "execution_count": 18,
   "id": "9572ba1a",
   "metadata": {},
   "outputs": [
    {
     "data": {
      "application/vnd.microsoft.datawrangler.viewer.v0+json": {
       "columns": [
        {
         "name": "index",
         "rawType": "int64",
         "type": "integer"
        },
        {
         "name": "gender",
         "rawType": "object",
         "type": "string"
        },
        {
         "name": "race/ethnicity",
         "rawType": "object",
         "type": "string"
        },
        {
         "name": "parental level of education",
         "rawType": "object",
         "type": "string"
        },
        {
         "name": "lunch",
         "rawType": "object",
         "type": "string"
        },
        {
         "name": "test preparation course",
         "rawType": "object",
         "type": "string"
        },
        {
         "name": "math score",
         "rawType": "int64",
         "type": "integer"
        },
        {
         "name": "reading score",
         "rawType": "int64",
         "type": "integer"
        },
        {
         "name": "writing score",
         "rawType": "int64",
         "type": "integer"
        },
        {
         "name": "Total Marks",
         "rawType": "int64",
         "type": "integer"
        }
       ],
       "ref": "b9f4e306-08f3-46d8-9791-dfec3d963e1e",
       "rows": [
        [
         "0",
         "female",
         "group B",
         "bachelor's degree",
         "standard",
         "none",
         "72",
         "72",
         "74",
         "218"
        ],
        [
         "1",
         "female",
         "group C",
         "some college",
         "standard",
         "completed",
         "69",
         "90",
         "88",
         "247"
        ],
        [
         "2",
         "female",
         "group B",
         "master's degree",
         "standard",
         "none",
         "90",
         "95",
         "93",
         "278"
        ],
        [
         "3",
         "male",
         "group A",
         "associate's degree",
         "free/reduced",
         "none",
         "47",
         "57",
         "44",
         "148"
        ],
        [
         "4",
         "male",
         "group C",
         "some college",
         "standard",
         "none",
         "76",
         "78",
         "75",
         "229"
        ]
       ],
       "shape": {
        "columns": 9,
        "rows": 5
       }
      },
      "text/html": [
       "<div>\n",
       "<style scoped>\n",
       "    .dataframe tbody tr th:only-of-type {\n",
       "        vertical-align: middle;\n",
       "    }\n",
       "\n",
       "    .dataframe tbody tr th {\n",
       "        vertical-align: top;\n",
       "    }\n",
       "\n",
       "    .dataframe thead th {\n",
       "        text-align: right;\n",
       "    }\n",
       "</style>\n",
       "<table border=\"1\" class=\"dataframe\">\n",
       "  <thead>\n",
       "    <tr style=\"text-align: right;\">\n",
       "      <th></th>\n",
       "      <th>gender</th>\n",
       "      <th>race/ethnicity</th>\n",
       "      <th>parental level of education</th>\n",
       "      <th>lunch</th>\n",
       "      <th>test preparation course</th>\n",
       "      <th>math score</th>\n",
       "      <th>reading score</th>\n",
       "      <th>writing score</th>\n",
       "      <th>Total Marks</th>\n",
       "    </tr>\n",
       "  </thead>\n",
       "  <tbody>\n",
       "    <tr>\n",
       "      <th>0</th>\n",
       "      <td>female</td>\n",
       "      <td>group B</td>\n",
       "      <td>bachelor's degree</td>\n",
       "      <td>standard</td>\n",
       "      <td>none</td>\n",
       "      <td>72</td>\n",
       "      <td>72</td>\n",
       "      <td>74</td>\n",
       "      <td>218</td>\n",
       "    </tr>\n",
       "    <tr>\n",
       "      <th>1</th>\n",
       "      <td>female</td>\n",
       "      <td>group C</td>\n",
       "      <td>some college</td>\n",
       "      <td>standard</td>\n",
       "      <td>completed</td>\n",
       "      <td>69</td>\n",
       "      <td>90</td>\n",
       "      <td>88</td>\n",
       "      <td>247</td>\n",
       "    </tr>\n",
       "    <tr>\n",
       "      <th>2</th>\n",
       "      <td>female</td>\n",
       "      <td>group B</td>\n",
       "      <td>master's degree</td>\n",
       "      <td>standard</td>\n",
       "      <td>none</td>\n",
       "      <td>90</td>\n",
       "      <td>95</td>\n",
       "      <td>93</td>\n",
       "      <td>278</td>\n",
       "    </tr>\n",
       "    <tr>\n",
       "      <th>3</th>\n",
       "      <td>male</td>\n",
       "      <td>group A</td>\n",
       "      <td>associate's degree</td>\n",
       "      <td>free/reduced</td>\n",
       "      <td>none</td>\n",
       "      <td>47</td>\n",
       "      <td>57</td>\n",
       "      <td>44</td>\n",
       "      <td>148</td>\n",
       "    </tr>\n",
       "    <tr>\n",
       "      <th>4</th>\n",
       "      <td>male</td>\n",
       "      <td>group C</td>\n",
       "      <td>some college</td>\n",
       "      <td>standard</td>\n",
       "      <td>none</td>\n",
       "      <td>76</td>\n",
       "      <td>78</td>\n",
       "      <td>75</td>\n",
       "      <td>229</td>\n",
       "    </tr>\n",
       "  </tbody>\n",
       "</table>\n",
       "</div>"
      ],
      "text/plain": [
       "   gender race/ethnicity parental level of education         lunch  \\\n",
       "0  female        group B           bachelor's degree      standard   \n",
       "1  female        group C                some college      standard   \n",
       "2  female        group B             master's degree      standard   \n",
       "3    male        group A          associate's degree  free/reduced   \n",
       "4    male        group C                some college      standard   \n",
       "\n",
       "  test preparation course  math score  reading score  writing score  \\\n",
       "0                    none          72             72             74   \n",
       "1               completed          69             90             88   \n",
       "2                    none          90             95             93   \n",
       "3                    none          47             57             44   \n",
       "4                    none          76             78             75   \n",
       "\n",
       "   Total Marks  \n",
       "0          218  \n",
       "1          247  \n",
       "2          278  \n",
       "3          148  \n",
       "4          229  "
      ]
     },
     "execution_count": 18,
     "metadata": {},
     "output_type": "execute_result"
    }
   ],
   "source": [
    "df.head()"
   ]
  },
  {
   "cell_type": "markdown",
   "id": "eb5f6164",
   "metadata": {},
   "source": [
    "#### 9. Renaming Columns"
   ]
  },
  {
   "cell_type": "code",
   "execution_count": null,
   "id": "708af53e",
   "metadata": {},
   "outputs": [],
   "source": [
    "# Changes column names.\n",
    "\n",
    "df.rename(columns={'Name': 'Full Name'}, inplace=True)"
   ]
  },
  {
   "cell_type": "code",
   "execution_count": 19,
   "id": "506bb3e9",
   "metadata": {},
   "outputs": [
    {
     "data": {
      "application/vnd.microsoft.datawrangler.viewer.v0+json": {
       "columns": [
        {
         "name": "index",
         "rawType": "int64",
         "type": "integer"
        },
        {
         "name": "gender",
         "rawType": "object",
         "type": "string"
        },
        {
         "name": "race/ethnicity",
         "rawType": "object",
         "type": "string"
        },
        {
         "name": "parental level of education",
         "rawType": "object",
         "type": "string"
        },
        {
         "name": "lunch",
         "rawType": "object",
         "type": "string"
        },
        {
         "name": "test preparation course",
         "rawType": "object",
         "type": "string"
        },
        {
         "name": "math score",
         "rawType": "int64",
         "type": "integer"
        },
        {
         "name": "reading score",
         "rawType": "int64",
         "type": "integer"
        },
        {
         "name": "writing score",
         "rawType": "int64",
         "type": "integer"
        },
        {
         "name": "Total Marks",
         "rawType": "int64",
         "type": "integer"
        }
       ],
       "ref": "92b8bf4b-31e5-40d7-87f4-7b0359b0bf22",
       "rows": [
        [
         "0",
         "female",
         "group B",
         "bachelor's degree",
         "standard",
         "none",
         "72",
         "72",
         "74",
         "218"
        ],
        [
         "1",
         "female",
         "group C",
         "some college",
         "standard",
         "completed",
         "69",
         "90",
         "88",
         "247"
        ],
        [
         "2",
         "female",
         "group B",
         "master's degree",
         "standard",
         "none",
         "90",
         "95",
         "93",
         "278"
        ],
        [
         "3",
         "male",
         "group A",
         "associate's degree",
         "free/reduced",
         "none",
         "47",
         "57",
         "44",
         "148"
        ],
        [
         "4",
         "male",
         "group C",
         "some college",
         "standard",
         "none",
         "76",
         "78",
         "75",
         "229"
        ]
       ],
       "shape": {
        "columns": 9,
        "rows": 5
       }
      },
      "text/html": [
       "<div>\n",
       "<style scoped>\n",
       "    .dataframe tbody tr th:only-of-type {\n",
       "        vertical-align: middle;\n",
       "    }\n",
       "\n",
       "    .dataframe tbody tr th {\n",
       "        vertical-align: top;\n",
       "    }\n",
       "\n",
       "    .dataframe thead th {\n",
       "        text-align: right;\n",
       "    }\n",
       "</style>\n",
       "<table border=\"1\" class=\"dataframe\">\n",
       "  <thead>\n",
       "    <tr style=\"text-align: right;\">\n",
       "      <th></th>\n",
       "      <th>gender</th>\n",
       "      <th>race/ethnicity</th>\n",
       "      <th>parental level of education</th>\n",
       "      <th>lunch</th>\n",
       "      <th>test preparation course</th>\n",
       "      <th>math score</th>\n",
       "      <th>reading score</th>\n",
       "      <th>writing score</th>\n",
       "      <th>Total Marks</th>\n",
       "    </tr>\n",
       "  </thead>\n",
       "  <tbody>\n",
       "    <tr>\n",
       "      <th>0</th>\n",
       "      <td>female</td>\n",
       "      <td>group B</td>\n",
       "      <td>bachelor's degree</td>\n",
       "      <td>standard</td>\n",
       "      <td>none</td>\n",
       "      <td>72</td>\n",
       "      <td>72</td>\n",
       "      <td>74</td>\n",
       "      <td>218</td>\n",
       "    </tr>\n",
       "    <tr>\n",
       "      <th>1</th>\n",
       "      <td>female</td>\n",
       "      <td>group C</td>\n",
       "      <td>some college</td>\n",
       "      <td>standard</td>\n",
       "      <td>completed</td>\n",
       "      <td>69</td>\n",
       "      <td>90</td>\n",
       "      <td>88</td>\n",
       "      <td>247</td>\n",
       "    </tr>\n",
       "    <tr>\n",
       "      <th>2</th>\n",
       "      <td>female</td>\n",
       "      <td>group B</td>\n",
       "      <td>master's degree</td>\n",
       "      <td>standard</td>\n",
       "      <td>none</td>\n",
       "      <td>90</td>\n",
       "      <td>95</td>\n",
       "      <td>93</td>\n",
       "      <td>278</td>\n",
       "    </tr>\n",
       "    <tr>\n",
       "      <th>3</th>\n",
       "      <td>male</td>\n",
       "      <td>group A</td>\n",
       "      <td>associate's degree</td>\n",
       "      <td>free/reduced</td>\n",
       "      <td>none</td>\n",
       "      <td>47</td>\n",
       "      <td>57</td>\n",
       "      <td>44</td>\n",
       "      <td>148</td>\n",
       "    </tr>\n",
       "    <tr>\n",
       "      <th>4</th>\n",
       "      <td>male</td>\n",
       "      <td>group C</td>\n",
       "      <td>some college</td>\n",
       "      <td>standard</td>\n",
       "      <td>none</td>\n",
       "      <td>76</td>\n",
       "      <td>78</td>\n",
       "      <td>75</td>\n",
       "      <td>229</td>\n",
       "    </tr>\n",
       "  </tbody>\n",
       "</table>\n",
       "</div>"
      ],
      "text/plain": [
       "   gender race/ethnicity parental level of education         lunch  \\\n",
       "0  female        group B           bachelor's degree      standard   \n",
       "1  female        group C                some college      standard   \n",
       "2  female        group B             master's degree      standard   \n",
       "3    male        group A          associate's degree  free/reduced   \n",
       "4    male        group C                some college      standard   \n",
       "\n",
       "  test preparation course  math score  reading score  writing score  \\\n",
       "0                    none          72             72             74   \n",
       "1               completed          69             90             88   \n",
       "2                    none          90             95             93   \n",
       "3                    none          47             57             44   \n",
       "4                    none          76             78             75   \n",
       "\n",
       "   Total Marks  \n",
       "0          218  \n",
       "1          247  \n",
       "2          278  \n",
       "3          148  \n",
       "4          229  "
      ]
     },
     "execution_count": 19,
     "metadata": {},
     "output_type": "execute_result"
    }
   ],
   "source": [
    "df.head()"
   ]
  },
  {
   "cell_type": "markdown",
   "id": "20b96635",
   "metadata": {},
   "source": [
    "#### 10. Dropping Columns or Rows"
   ]
  },
  {
   "cell_type": "code",
   "execution_count": null,
   "id": "5f1197a1",
   "metadata": {},
   "outputs": [],
   "source": [
    "\n",
    "\n",
    "df.drop('lunch', axis=1, inplace=True)   # Drop column\n",
    "# df.drop(0, axis=0, inplace=True)       # Drop row with index 0"
   ]
  },
  {
   "cell_type": "code",
   "execution_count": 21,
   "id": "8f700143",
   "metadata": {},
   "outputs": [
    {
     "data": {
      "application/vnd.microsoft.datawrangler.viewer.v0+json": {
       "columns": [
        {
         "name": "index",
         "rawType": "int64",
         "type": "integer"
        },
        {
         "name": "gender",
         "rawType": "object",
         "type": "string"
        },
        {
         "name": "race/ethnicity",
         "rawType": "object",
         "type": "string"
        },
        {
         "name": "parental level of education",
         "rawType": "object",
         "type": "string"
        },
        {
         "name": "test preparation course",
         "rawType": "object",
         "type": "string"
        },
        {
         "name": "math score",
         "rawType": "int64",
         "type": "integer"
        },
        {
         "name": "reading score",
         "rawType": "int64",
         "type": "integer"
        },
        {
         "name": "writing score",
         "rawType": "int64",
         "type": "integer"
        },
        {
         "name": "Total Marks",
         "rawType": "int64",
         "type": "integer"
        }
       ],
       "ref": "af96cb85-c782-4796-b159-8df3c9ae53a0",
       "rows": [
        [
         "0",
         "female",
         "group B",
         "bachelor's degree",
         "none",
         "72",
         "72",
         "74",
         "218"
        ],
        [
         "1",
         "female",
         "group C",
         "some college",
         "completed",
         "69",
         "90",
         "88",
         "247"
        ],
        [
         "2",
         "female",
         "group B",
         "master's degree",
         "none",
         "90",
         "95",
         "93",
         "278"
        ],
        [
         "3",
         "male",
         "group A",
         "associate's degree",
         "none",
         "47",
         "57",
         "44",
         "148"
        ],
        [
         "4",
         "male",
         "group C",
         "some college",
         "none",
         "76",
         "78",
         "75",
         "229"
        ]
       ],
       "shape": {
        "columns": 8,
        "rows": 5
       }
      },
      "text/html": [
       "<div>\n",
       "<style scoped>\n",
       "    .dataframe tbody tr th:only-of-type {\n",
       "        vertical-align: middle;\n",
       "    }\n",
       "\n",
       "    .dataframe tbody tr th {\n",
       "        vertical-align: top;\n",
       "    }\n",
       "\n",
       "    .dataframe thead th {\n",
       "        text-align: right;\n",
       "    }\n",
       "</style>\n",
       "<table border=\"1\" class=\"dataframe\">\n",
       "  <thead>\n",
       "    <tr style=\"text-align: right;\">\n",
       "      <th></th>\n",
       "      <th>gender</th>\n",
       "      <th>race/ethnicity</th>\n",
       "      <th>parental level of education</th>\n",
       "      <th>test preparation course</th>\n",
       "      <th>math score</th>\n",
       "      <th>reading score</th>\n",
       "      <th>writing score</th>\n",
       "      <th>Total Marks</th>\n",
       "    </tr>\n",
       "  </thead>\n",
       "  <tbody>\n",
       "    <tr>\n",
       "      <th>0</th>\n",
       "      <td>female</td>\n",
       "      <td>group B</td>\n",
       "      <td>bachelor's degree</td>\n",
       "      <td>none</td>\n",
       "      <td>72</td>\n",
       "      <td>72</td>\n",
       "      <td>74</td>\n",
       "      <td>218</td>\n",
       "    </tr>\n",
       "    <tr>\n",
       "      <th>1</th>\n",
       "      <td>female</td>\n",
       "      <td>group C</td>\n",
       "      <td>some college</td>\n",
       "      <td>completed</td>\n",
       "      <td>69</td>\n",
       "      <td>90</td>\n",
       "      <td>88</td>\n",
       "      <td>247</td>\n",
       "    </tr>\n",
       "    <tr>\n",
       "      <th>2</th>\n",
       "      <td>female</td>\n",
       "      <td>group B</td>\n",
       "      <td>master's degree</td>\n",
       "      <td>none</td>\n",
       "      <td>90</td>\n",
       "      <td>95</td>\n",
       "      <td>93</td>\n",
       "      <td>278</td>\n",
       "    </tr>\n",
       "    <tr>\n",
       "      <th>3</th>\n",
       "      <td>male</td>\n",
       "      <td>group A</td>\n",
       "      <td>associate's degree</td>\n",
       "      <td>none</td>\n",
       "      <td>47</td>\n",
       "      <td>57</td>\n",
       "      <td>44</td>\n",
       "      <td>148</td>\n",
       "    </tr>\n",
       "    <tr>\n",
       "      <th>4</th>\n",
       "      <td>male</td>\n",
       "      <td>group C</td>\n",
       "      <td>some college</td>\n",
       "      <td>none</td>\n",
       "      <td>76</td>\n",
       "      <td>78</td>\n",
       "      <td>75</td>\n",
       "      <td>229</td>\n",
       "    </tr>\n",
       "  </tbody>\n",
       "</table>\n",
       "</div>"
      ],
      "text/plain": [
       "   gender race/ethnicity parental level of education test preparation course  \\\n",
       "0  female        group B           bachelor's degree                    none   \n",
       "1  female        group C                some college               completed   \n",
       "2  female        group B             master's degree                    none   \n",
       "3    male        group A          associate's degree                    none   \n",
       "4    male        group C                some college                    none   \n",
       "\n",
       "   math score  reading score  writing score  Total Marks  \n",
       "0          72             72             74          218  \n",
       "1          69             90             88          247  \n",
       "2          90             95             93          278  \n",
       "3          47             57             44          148  \n",
       "4          76             78             75          229  "
      ]
     },
     "execution_count": 21,
     "metadata": {},
     "output_type": "execute_result"
    }
   ],
   "source": [
    "df.head()"
   ]
  },
  {
   "cell_type": "markdown",
   "id": "2c4754a7",
   "metadata": {},
   "source": [
    "#### 11. Sorting Data"
   ]
  },
  {
   "cell_type": "code",
   "execution_count": null,
   "id": "f92752d5",
   "metadata": {},
   "outputs": [],
   "source": [
    "\n",
    "# Sorts the DataFrame by column values.\n",
    "\n",
    "\n",
    "df.sort_values(by='English', ascending=False, inplace=True)\n"
   ]
  },
  {
   "cell_type": "markdown",
   "id": "88fbbccf",
   "metadata": {},
   "source": [
    "#### 12. Resetting Index"
   ]
  },
  {
   "cell_type": "code",
   "execution_count": null,
   "id": "78a7ee1c",
   "metadata": {},
   "outputs": [],
   "source": [
    "\n",
    "# Resets index after dropping or filtering rows.\n",
    "\n",
    "df.reset_index(drop=True, inplace=True)\n"
   ]
  },
  {
   "cell_type": "markdown",
   "id": "084e393e",
   "metadata": {},
   "source": [
    "#### 13. Checking for Missing Values"
   ]
  },
  {
   "cell_type": "code",
   "execution_count": null,
   "id": "5b14255c",
   "metadata": {},
   "outputs": [],
   "source": [
    "\n",
    "# Shows how many missing (NaN) values are in each column.\n",
    "\n",
    "print(df.isnull().sum())"
   ]
  },
  {
   "cell_type": "markdown",
   "id": "cb937b6b",
   "metadata": {},
   "source": [
    "#### 14. Filling Missing Values"
   ]
  },
  {
   "cell_type": "code",
   "execution_count": null,
   "id": "e87ef823",
   "metadata": {},
   "outputs": [],
   "source": [
    "\n",
    "# Fills missing values with 0 or any other value.\n",
    "\n",
    "df.fillna(0, inplace=True)"
   ]
  },
  {
   "cell_type": "markdown",
   "id": "83e168b5",
   "metadata": {},
   "source": [
    "#### 15. Group By and Aggregation"
   ]
  },
  {
   "cell_type": "code",
   "execution_count": null,
   "id": "1a87649b",
   "metadata": {},
   "outputs": [],
   "source": [
    "\n",
    "# Groups rows by a column and calculates mean.\n",
    "\n",
    "# Calculate average marks per student\n",
    "df['Average'] = df[['Math', 'English', 'Science']].mean(axis=1)\n",
    "\n",
    "# Define Grades\n",
    "def get_grade(avg):\n",
    "    if avg >= 90:\n",
    "        return 'A+'\n",
    "    elif avg >= 80:\n",
    "        return 'A'\n",
    "    elif avg >= 70:\n",
    "        return 'B'\n",
    "    elif avg >= 60:\n",
    "        return 'C'\n",
    "    else:\n",
    "        return 'D'\n",
    "\n",
    "\n",
    "df['Grade'] = df['Average'].apply(get_grade)\n",
    "\n",
    "# Group by Grade and count how many students fall into each\n",
    "grade_counts = df.groupby('Grade')['Full Name'].count()\n",
    "print(\"\\n📊 Grade Distribution:\")\n",
    "print(grade_counts)"
   ]
  },
  {
   "cell_type": "code",
   "execution_count": null,
   "id": "0f56015d",
   "metadata": {},
   "outputs": [],
   "source": [
    "# Find top 3 students\n",
    "\n",
    "top_students = df.sort_values(by='Average', ascending=False).head(3)\n",
    "\n",
    "print(\"\\n🏆 Top 3 Students:\")\n",
    "print(top_students[['Full Name', 'Average', 'Grade']])\n",
    "\n",
    "# Step 6: Save the report\n",
    "df.to_csv('datasets/student_report.csv', index=False)"
   ]
  },
  {
   "cell_type": "code",
   "execution_count": null,
   "id": "c7b9074b",
   "metadata": {},
   "outputs": [],
   "source": []
  },
  {
   "cell_type": "markdown",
   "id": "729b8b34",
   "metadata": {},
   "source": [
    "### Small Pandas Project: Classroom Attendance & Performance Tracker\n",
    "\n",
    "#### Goal:\n",
    "\n",
    "- Track student attendance and grades\n",
    "\n",
    "- Compute attendance percentage\n",
    "\n",
    "- Identify students who need follow-up\n",
    "\n",
    "- Export cleaned report\n"
   ]
  },
  {
   "cell_type": "markdown",
   "id": "74c98189",
   "metadata": {},
   "source": [
    "- Step 1: Load the data\n",
    "    - `pd.read_csv`\n",
    "- Step 2: Calculate average grade per student\n",
    "    - `df[[...]].mean(axis=1)`\n",
    "- Step 4: Identify students who need attention\n",
    "\n",
    "    Criteria: grade < 70 or attendance < 75%\n",
    "    - `calculate percentage`\n",
    "- Step 5: Summary report\n",
    "    - `print summary`\n",
    "- Step 6: Save cleaned and analyzed data\n",
    "    - `df.to_csv()`\n"
   ]
  },
  {
   "cell_type": "code",
   "execution_count": null,
   "id": "c55e961a",
   "metadata": {},
   "outputs": [],
   "source": [
    "import pandas as pd"
   ]
  },
  {
   "cell_type": "markdown",
   "id": "333a587b",
   "metadata": {},
   "source": [
    "`Step 1:` Load the data"
   ]
  },
  {
   "cell_type": "code",
   "execution_count": null,
   "id": "5af0a10d",
   "metadata": {},
   "outputs": [
    {
     "name": "stdout",
     "output_type": "stream",
     "text": [
      "📄 Original Data:\n"
     ]
    },
    {
     "data": {
      "application/vnd.microsoft.datawrangler.viewer.v0+json": {
       "columns": [
        {
         "name": "index",
         "rawType": "int64",
         "type": "integer"
        },
        {
         "name": "Student",
         "rawType": "object",
         "type": "string"
        },
        {
         "name": "Math",
         "rawType": "float64",
         "type": "float"
        },
        {
         "name": "Science",
         "rawType": "float64",
         "type": "float"
        },
        {
         "name": "English",
         "rawType": "float64",
         "type": "float"
        },
        {
         "name": "Days_Present",
         "rawType": "int64",
         "type": "integer"
        },
        {
         "name": "Total_Days",
         "rawType": "int64",
         "type": "integer"
        }
       ],
       "ref": "933bf815-9d12-405c-ae87-2d77a3aa316b",
       "rows": [
        [
         "0",
         "Alice",
         "85.0",
         "90.0",
         "78.0",
         "42",
         "45"
        ],
        [
         "1",
         "Bob",
         "70.0",
         "88.0",
         null,
         "41",
         "45"
        ],
        [
         "2",
         "Charlie",
         "95.0",
         "92.0",
         "89.0",
         "45",
         "45"
        ],
        [
         "3",
         "David",
         "60.0",
         null,
         "80.0",
         "35",
         "45"
        ],
        [
         "4",
         "Eva",
         "88.0",
         "76.0",
         "85.0",
         "40",
         "45"
        ],
        [
         "5",
         "Frank",
         null,
         "70.0",
         "75.0",
         "28",
         "45"
        ],
        [
         "6",
         "Grace",
         "82.0",
         "85.0",
         "80.0",
         "38",
         "45"
        ]
       ],
       "shape": {
        "columns": 6,
        "rows": 7
       }
      },
      "text/html": [
       "<div>\n",
       "<style scoped>\n",
       "    .dataframe tbody tr th:only-of-type {\n",
       "        vertical-align: middle;\n",
       "    }\n",
       "\n",
       "    .dataframe tbody tr th {\n",
       "        vertical-align: top;\n",
       "    }\n",
       "\n",
       "    .dataframe thead th {\n",
       "        text-align: right;\n",
       "    }\n",
       "</style>\n",
       "<table border=\"1\" class=\"dataframe\">\n",
       "  <thead>\n",
       "    <tr style=\"text-align: right;\">\n",
       "      <th></th>\n",
       "      <th>Student</th>\n",
       "      <th>Math</th>\n",
       "      <th>Science</th>\n",
       "      <th>English</th>\n",
       "      <th>Days_Present</th>\n",
       "      <th>Total_Days</th>\n",
       "    </tr>\n",
       "  </thead>\n",
       "  <tbody>\n",
       "    <tr>\n",
       "      <th>0</th>\n",
       "      <td>Alice</td>\n",
       "      <td>85.0</td>\n",
       "      <td>90.0</td>\n",
       "      <td>78.0</td>\n",
       "      <td>42</td>\n",
       "      <td>45</td>\n",
       "    </tr>\n",
       "    <tr>\n",
       "      <th>1</th>\n",
       "      <td>Bob</td>\n",
       "      <td>70.0</td>\n",
       "      <td>88.0</td>\n",
       "      <td>NaN</td>\n",
       "      <td>41</td>\n",
       "      <td>45</td>\n",
       "    </tr>\n",
       "    <tr>\n",
       "      <th>2</th>\n",
       "      <td>Charlie</td>\n",
       "      <td>95.0</td>\n",
       "      <td>92.0</td>\n",
       "      <td>89.0</td>\n",
       "      <td>45</td>\n",
       "      <td>45</td>\n",
       "    </tr>\n",
       "    <tr>\n",
       "      <th>3</th>\n",
       "      <td>David</td>\n",
       "      <td>60.0</td>\n",
       "      <td>NaN</td>\n",
       "      <td>80.0</td>\n",
       "      <td>35</td>\n",
       "      <td>45</td>\n",
       "    </tr>\n",
       "    <tr>\n",
       "      <th>4</th>\n",
       "      <td>Eva</td>\n",
       "      <td>88.0</td>\n",
       "      <td>76.0</td>\n",
       "      <td>85.0</td>\n",
       "      <td>40</td>\n",
       "      <td>45</td>\n",
       "    </tr>\n",
       "    <tr>\n",
       "      <th>5</th>\n",
       "      <td>Frank</td>\n",
       "      <td>NaN</td>\n",
       "      <td>70.0</td>\n",
       "      <td>75.0</td>\n",
       "      <td>28</td>\n",
       "      <td>45</td>\n",
       "    </tr>\n",
       "    <tr>\n",
       "      <th>6</th>\n",
       "      <td>Grace</td>\n",
       "      <td>82.0</td>\n",
       "      <td>85.0</td>\n",
       "      <td>80.0</td>\n",
       "      <td>38</td>\n",
       "      <td>45</td>\n",
       "    </tr>\n",
       "  </tbody>\n",
       "</table>\n",
       "</div>"
      ],
      "text/plain": [
       "   Student  Math  Science  English  Days_Present  Total_Days\n",
       "0    Alice  85.0     90.0     78.0            42          45\n",
       "1      Bob  70.0     88.0      NaN            41          45\n",
       "2  Charlie  95.0     92.0     89.0            45          45\n",
       "3    David  60.0      NaN     80.0            35          45\n",
       "4      Eva  88.0     76.0     85.0            40          45\n",
       "5    Frank   NaN     70.0     75.0            28          45\n",
       "6    Grace  82.0     85.0     80.0            38          45"
      ]
     },
     "execution_count": 23,
     "metadata": {},
     "output_type": "execute_result"
    }
   ],
   "source": [
    "\n",
    "\n",
    "df = pd.read_csv('datasets/classroom_data.csv')\n",
    "print(\"📄 Original Data:\")\n",
    "df\n"
   ]
  },
  {
   "cell_type": "markdown",
   "id": "7a3db644",
   "metadata": {},
   "source": [
    "`Step 2:` Handle missing grades with column mean"
   ]
  },
  {
   "cell_type": "code",
   "execution_count": null,
   "id": "d9109a4f",
   "metadata": {},
   "outputs": [],
   "source": [
    "df[['Math', 'Science', 'English']] = df[['Math', 'Science', 'English']].fillna(\n",
    "    df[['Math', 'Science', 'English']].mean(numeric_only=True)\n",
    ")\n"
   ]
  },
  {
   "cell_type": "markdown",
   "id": "e9769d59",
   "metadata": {},
   "source": [
    "`Step 3:` Calculate average grade per student"
   ]
  },
  {
   "cell_type": "code",
   "execution_count": null,
   "id": "42a86b94",
   "metadata": {},
   "outputs": [],
   "source": [
    "\n",
    "df['Average_Grade'] = df[['Math', 'Science', 'English']].mean(axis=1)\n"
   ]
  },
  {
   "cell_type": "code",
   "execution_count": 27,
   "id": "2b75043e",
   "metadata": {},
   "outputs": [
    {
     "data": {
      "application/vnd.microsoft.datawrangler.viewer.v0+json": {
       "columns": [
        {
         "name": "index",
         "rawType": "int64",
         "type": "integer"
        },
        {
         "name": "Student",
         "rawType": "object",
         "type": "string"
        },
        {
         "name": "Math",
         "rawType": "float64",
         "type": "float"
        },
        {
         "name": "Science",
         "rawType": "float64",
         "type": "float"
        },
        {
         "name": "English",
         "rawType": "float64",
         "type": "float"
        },
        {
         "name": "Days_Present",
         "rawType": "int64",
         "type": "integer"
        },
        {
         "name": "Total_Days",
         "rawType": "int64",
         "type": "integer"
        },
        {
         "name": "Average_Grade",
         "rawType": "float64",
         "type": "float"
        }
       ],
       "ref": "09fd8f14-663e-443a-b0d6-f7b3111becd3",
       "rows": [
        [
         "0",
         "Alice",
         "85.0",
         "90.0",
         "78.0",
         "42",
         "45",
         "84.33333333333333"
        ],
        [
         "1",
         "Bob",
         "70.0",
         "88.0",
         "81.16666666666667",
         "41",
         "45",
         "79.72222222222223"
        ],
        [
         "2",
         "Charlie",
         "95.0",
         "92.0",
         "89.0",
         "45",
         "45",
         "92.0"
        ],
        [
         "3",
         "David",
         "60.0",
         "83.5",
         "80.0",
         "35",
         "45",
         "74.5"
        ],
        [
         "4",
         "Eva",
         "88.0",
         "76.0",
         "85.0",
         "40",
         "45",
         "83.0"
        ],
        [
         "5",
         "Frank",
         "80.0",
         "70.0",
         "75.0",
         "28",
         "45",
         "75.0"
        ],
        [
         "6",
         "Grace",
         "82.0",
         "85.0",
         "80.0",
         "38",
         "45",
         "82.33333333333333"
        ]
       ],
       "shape": {
        "columns": 7,
        "rows": 7
       }
      },
      "text/html": [
       "<div>\n",
       "<style scoped>\n",
       "    .dataframe tbody tr th:only-of-type {\n",
       "        vertical-align: middle;\n",
       "    }\n",
       "\n",
       "    .dataframe tbody tr th {\n",
       "        vertical-align: top;\n",
       "    }\n",
       "\n",
       "    .dataframe thead th {\n",
       "        text-align: right;\n",
       "    }\n",
       "</style>\n",
       "<table border=\"1\" class=\"dataframe\">\n",
       "  <thead>\n",
       "    <tr style=\"text-align: right;\">\n",
       "      <th></th>\n",
       "      <th>Student</th>\n",
       "      <th>Math</th>\n",
       "      <th>Science</th>\n",
       "      <th>English</th>\n",
       "      <th>Days_Present</th>\n",
       "      <th>Total_Days</th>\n",
       "      <th>Average_Grade</th>\n",
       "    </tr>\n",
       "  </thead>\n",
       "  <tbody>\n",
       "    <tr>\n",
       "      <th>0</th>\n",
       "      <td>Alice</td>\n",
       "      <td>85.0</td>\n",
       "      <td>90.0</td>\n",
       "      <td>78.000000</td>\n",
       "      <td>42</td>\n",
       "      <td>45</td>\n",
       "      <td>84.333333</td>\n",
       "    </tr>\n",
       "    <tr>\n",
       "      <th>1</th>\n",
       "      <td>Bob</td>\n",
       "      <td>70.0</td>\n",
       "      <td>88.0</td>\n",
       "      <td>81.166667</td>\n",
       "      <td>41</td>\n",
       "      <td>45</td>\n",
       "      <td>79.722222</td>\n",
       "    </tr>\n",
       "    <tr>\n",
       "      <th>2</th>\n",
       "      <td>Charlie</td>\n",
       "      <td>95.0</td>\n",
       "      <td>92.0</td>\n",
       "      <td>89.000000</td>\n",
       "      <td>45</td>\n",
       "      <td>45</td>\n",
       "      <td>92.000000</td>\n",
       "    </tr>\n",
       "    <tr>\n",
       "      <th>3</th>\n",
       "      <td>David</td>\n",
       "      <td>60.0</td>\n",
       "      <td>83.5</td>\n",
       "      <td>80.000000</td>\n",
       "      <td>35</td>\n",
       "      <td>45</td>\n",
       "      <td>74.500000</td>\n",
       "    </tr>\n",
       "    <tr>\n",
       "      <th>4</th>\n",
       "      <td>Eva</td>\n",
       "      <td>88.0</td>\n",
       "      <td>76.0</td>\n",
       "      <td>85.000000</td>\n",
       "      <td>40</td>\n",
       "      <td>45</td>\n",
       "      <td>83.000000</td>\n",
       "    </tr>\n",
       "    <tr>\n",
       "      <th>5</th>\n",
       "      <td>Frank</td>\n",
       "      <td>80.0</td>\n",
       "      <td>70.0</td>\n",
       "      <td>75.000000</td>\n",
       "      <td>28</td>\n",
       "      <td>45</td>\n",
       "      <td>75.000000</td>\n",
       "    </tr>\n",
       "    <tr>\n",
       "      <th>6</th>\n",
       "      <td>Grace</td>\n",
       "      <td>82.0</td>\n",
       "      <td>85.0</td>\n",
       "      <td>80.000000</td>\n",
       "      <td>38</td>\n",
       "      <td>45</td>\n",
       "      <td>82.333333</td>\n",
       "    </tr>\n",
       "  </tbody>\n",
       "</table>\n",
       "</div>"
      ],
      "text/plain": [
       "   Student  Math  Science    English  Days_Present  Total_Days  Average_Grade\n",
       "0    Alice  85.0     90.0  78.000000            42          45      84.333333\n",
       "1      Bob  70.0     88.0  81.166667            41          45      79.722222\n",
       "2  Charlie  95.0     92.0  89.000000            45          45      92.000000\n",
       "3    David  60.0     83.5  80.000000            35          45      74.500000\n",
       "4      Eva  88.0     76.0  85.000000            40          45      83.000000\n",
       "5    Frank  80.0     70.0  75.000000            28          45      75.000000\n",
       "6    Grace  82.0     85.0  80.000000            38          45      82.333333"
      ]
     },
     "execution_count": 27,
     "metadata": {},
     "output_type": "execute_result"
    }
   ],
   "source": [
    "df"
   ]
  },
  {
   "cell_type": "markdown",
   "id": "296749e0",
   "metadata": {},
   "source": [
    "`Step 4:` Calculate attendance percentage"
   ]
  },
  {
   "cell_type": "code",
   "execution_count": null,
   "id": "a487d124",
   "metadata": {},
   "outputs": [],
   "source": [
    "\n",
    "df['Attendance_%'] = (df['Days_Present'] / df['Total_Days']) * 100\n",
    "\n"
   ]
  },
  {
   "cell_type": "code",
   "execution_count": 29,
   "id": "d2507932",
   "metadata": {},
   "outputs": [
    {
     "data": {
      "application/vnd.microsoft.datawrangler.viewer.v0+json": {
       "columns": [
        {
         "name": "index",
         "rawType": "int64",
         "type": "integer"
        },
        {
         "name": "Student",
         "rawType": "object",
         "type": "string"
        },
        {
         "name": "Math",
         "rawType": "float64",
         "type": "float"
        },
        {
         "name": "Science",
         "rawType": "float64",
         "type": "float"
        },
        {
         "name": "English",
         "rawType": "float64",
         "type": "float"
        },
        {
         "name": "Days_Present",
         "rawType": "int64",
         "type": "integer"
        },
        {
         "name": "Total_Days",
         "rawType": "int64",
         "type": "integer"
        },
        {
         "name": "Average_Grade",
         "rawType": "float64",
         "type": "float"
        },
        {
         "name": "Attendance_%",
         "rawType": "float64",
         "type": "float"
        }
       ],
       "ref": "0ba65d64-fb58-48b0-918c-8fa608fd9b5a",
       "rows": [
        [
         "0",
         "Alice",
         "85.0",
         "90.0",
         "78.0",
         "42",
         "45",
         "84.33333333333333",
         "93.33333333333333"
        ],
        [
         "1",
         "Bob",
         "70.0",
         "88.0",
         "81.16666666666667",
         "41",
         "45",
         "79.72222222222223",
         "91.11111111111111"
        ],
        [
         "2",
         "Charlie",
         "95.0",
         "92.0",
         "89.0",
         "45",
         "45",
         "92.0",
         "100.0"
        ],
        [
         "3",
         "David",
         "60.0",
         "83.5",
         "80.0",
         "35",
         "45",
         "74.5",
         "77.77777777777779"
        ],
        [
         "4",
         "Eva",
         "88.0",
         "76.0",
         "85.0",
         "40",
         "45",
         "83.0",
         "88.88888888888889"
        ],
        [
         "5",
         "Frank",
         "80.0",
         "70.0",
         "75.0",
         "28",
         "45",
         "75.0",
         "62.22222222222222"
        ],
        [
         "6",
         "Grace",
         "82.0",
         "85.0",
         "80.0",
         "38",
         "45",
         "82.33333333333333",
         "84.44444444444444"
        ]
       ],
       "shape": {
        "columns": 8,
        "rows": 7
       }
      },
      "text/html": [
       "<div>\n",
       "<style scoped>\n",
       "    .dataframe tbody tr th:only-of-type {\n",
       "        vertical-align: middle;\n",
       "    }\n",
       "\n",
       "    .dataframe tbody tr th {\n",
       "        vertical-align: top;\n",
       "    }\n",
       "\n",
       "    .dataframe thead th {\n",
       "        text-align: right;\n",
       "    }\n",
       "</style>\n",
       "<table border=\"1\" class=\"dataframe\">\n",
       "  <thead>\n",
       "    <tr style=\"text-align: right;\">\n",
       "      <th></th>\n",
       "      <th>Student</th>\n",
       "      <th>Math</th>\n",
       "      <th>Science</th>\n",
       "      <th>English</th>\n",
       "      <th>Days_Present</th>\n",
       "      <th>Total_Days</th>\n",
       "      <th>Average_Grade</th>\n",
       "      <th>Attendance_%</th>\n",
       "    </tr>\n",
       "  </thead>\n",
       "  <tbody>\n",
       "    <tr>\n",
       "      <th>0</th>\n",
       "      <td>Alice</td>\n",
       "      <td>85.0</td>\n",
       "      <td>90.0</td>\n",
       "      <td>78.000000</td>\n",
       "      <td>42</td>\n",
       "      <td>45</td>\n",
       "      <td>84.333333</td>\n",
       "      <td>93.333333</td>\n",
       "    </tr>\n",
       "    <tr>\n",
       "      <th>1</th>\n",
       "      <td>Bob</td>\n",
       "      <td>70.0</td>\n",
       "      <td>88.0</td>\n",
       "      <td>81.166667</td>\n",
       "      <td>41</td>\n",
       "      <td>45</td>\n",
       "      <td>79.722222</td>\n",
       "      <td>91.111111</td>\n",
       "    </tr>\n",
       "    <tr>\n",
       "      <th>2</th>\n",
       "      <td>Charlie</td>\n",
       "      <td>95.0</td>\n",
       "      <td>92.0</td>\n",
       "      <td>89.000000</td>\n",
       "      <td>45</td>\n",
       "      <td>45</td>\n",
       "      <td>92.000000</td>\n",
       "      <td>100.000000</td>\n",
       "    </tr>\n",
       "    <tr>\n",
       "      <th>3</th>\n",
       "      <td>David</td>\n",
       "      <td>60.0</td>\n",
       "      <td>83.5</td>\n",
       "      <td>80.000000</td>\n",
       "      <td>35</td>\n",
       "      <td>45</td>\n",
       "      <td>74.500000</td>\n",
       "      <td>77.777778</td>\n",
       "    </tr>\n",
       "    <tr>\n",
       "      <th>4</th>\n",
       "      <td>Eva</td>\n",
       "      <td>88.0</td>\n",
       "      <td>76.0</td>\n",
       "      <td>85.000000</td>\n",
       "      <td>40</td>\n",
       "      <td>45</td>\n",
       "      <td>83.000000</td>\n",
       "      <td>88.888889</td>\n",
       "    </tr>\n",
       "    <tr>\n",
       "      <th>5</th>\n",
       "      <td>Frank</td>\n",
       "      <td>80.0</td>\n",
       "      <td>70.0</td>\n",
       "      <td>75.000000</td>\n",
       "      <td>28</td>\n",
       "      <td>45</td>\n",
       "      <td>75.000000</td>\n",
       "      <td>62.222222</td>\n",
       "    </tr>\n",
       "    <tr>\n",
       "      <th>6</th>\n",
       "      <td>Grace</td>\n",
       "      <td>82.0</td>\n",
       "      <td>85.0</td>\n",
       "      <td>80.000000</td>\n",
       "      <td>38</td>\n",
       "      <td>45</td>\n",
       "      <td>82.333333</td>\n",
       "      <td>84.444444</td>\n",
       "    </tr>\n",
       "  </tbody>\n",
       "</table>\n",
       "</div>"
      ],
      "text/plain": [
       "   Student  Math  Science    English  Days_Present  Total_Days  Average_Grade  \\\n",
       "0    Alice  85.0     90.0  78.000000            42          45      84.333333   \n",
       "1      Bob  70.0     88.0  81.166667            41          45      79.722222   \n",
       "2  Charlie  95.0     92.0  89.000000            45          45      92.000000   \n",
       "3    David  60.0     83.5  80.000000            35          45      74.500000   \n",
       "4      Eva  88.0     76.0  85.000000            40          45      83.000000   \n",
       "5    Frank  80.0     70.0  75.000000            28          45      75.000000   \n",
       "6    Grace  82.0     85.0  80.000000            38          45      82.333333   \n",
       "\n",
       "   Attendance_%  \n",
       "0     93.333333  \n",
       "1     91.111111  \n",
       "2    100.000000  \n",
       "3     77.777778  \n",
       "4     88.888889  \n",
       "5     62.222222  \n",
       "6     84.444444  "
      ]
     },
     "execution_count": 29,
     "metadata": {},
     "output_type": "execute_result"
    }
   ],
   "source": [
    "df"
   ]
  },
  {
   "cell_type": "markdown",
   "id": "3e2ab5fd",
   "metadata": {},
   "source": [
    "`Step 5:` Identify students who need attention"
   ]
  },
  {
   "cell_type": "code",
   "execution_count": null,
   "id": "f7d93f18",
   "metadata": {},
   "outputs": [],
   "source": [
    "\n",
    "# Criteria: grade < 70 or attendance < 75%\n",
    "df['Needs_Followup'] = (df['Average_Grade'] < 70) | (df['Attendance_%'] < 75)\n"
   ]
  },
  {
   "cell_type": "code",
   "execution_count": 31,
   "id": "89fe8201",
   "metadata": {},
   "outputs": [
    {
     "data": {
      "application/vnd.microsoft.datawrangler.viewer.v0+json": {
       "columns": [
        {
         "name": "index",
         "rawType": "int64",
         "type": "integer"
        },
        {
         "name": "Student",
         "rawType": "object",
         "type": "string"
        },
        {
         "name": "Math",
         "rawType": "float64",
         "type": "float"
        },
        {
         "name": "Science",
         "rawType": "float64",
         "type": "float"
        },
        {
         "name": "English",
         "rawType": "float64",
         "type": "float"
        },
        {
         "name": "Days_Present",
         "rawType": "int64",
         "type": "integer"
        },
        {
         "name": "Total_Days",
         "rawType": "int64",
         "type": "integer"
        },
        {
         "name": "Average_Grade",
         "rawType": "float64",
         "type": "float"
        },
        {
         "name": "Attendance_%",
         "rawType": "float64",
         "type": "float"
        },
        {
         "name": "Needs_Followup",
         "rawType": "bool",
         "type": "boolean"
        }
       ],
       "ref": "39c6e9c8-598b-43c4-b00e-980ad36705ec",
       "rows": [
        [
         "0",
         "Alice",
         "85.0",
         "90.0",
         "78.0",
         "42",
         "45",
         "84.33333333333333",
         "93.33333333333333",
         "False"
        ],
        [
         "1",
         "Bob",
         "70.0",
         "88.0",
         "81.16666666666667",
         "41",
         "45",
         "79.72222222222223",
         "91.11111111111111",
         "False"
        ],
        [
         "2",
         "Charlie",
         "95.0",
         "92.0",
         "89.0",
         "45",
         "45",
         "92.0",
         "100.0",
         "False"
        ],
        [
         "3",
         "David",
         "60.0",
         "83.5",
         "80.0",
         "35",
         "45",
         "74.5",
         "77.77777777777779",
         "False"
        ],
        [
         "4",
         "Eva",
         "88.0",
         "76.0",
         "85.0",
         "40",
         "45",
         "83.0",
         "88.88888888888889",
         "False"
        ],
        [
         "5",
         "Frank",
         "80.0",
         "70.0",
         "75.0",
         "28",
         "45",
         "75.0",
         "62.22222222222222",
         "True"
        ],
        [
         "6",
         "Grace",
         "82.0",
         "85.0",
         "80.0",
         "38",
         "45",
         "82.33333333333333",
         "84.44444444444444",
         "False"
        ]
       ],
       "shape": {
        "columns": 9,
        "rows": 7
       }
      },
      "text/html": [
       "<div>\n",
       "<style scoped>\n",
       "    .dataframe tbody tr th:only-of-type {\n",
       "        vertical-align: middle;\n",
       "    }\n",
       "\n",
       "    .dataframe tbody tr th {\n",
       "        vertical-align: top;\n",
       "    }\n",
       "\n",
       "    .dataframe thead th {\n",
       "        text-align: right;\n",
       "    }\n",
       "</style>\n",
       "<table border=\"1\" class=\"dataframe\">\n",
       "  <thead>\n",
       "    <tr style=\"text-align: right;\">\n",
       "      <th></th>\n",
       "      <th>Student</th>\n",
       "      <th>Math</th>\n",
       "      <th>Science</th>\n",
       "      <th>English</th>\n",
       "      <th>Days_Present</th>\n",
       "      <th>Total_Days</th>\n",
       "      <th>Average_Grade</th>\n",
       "      <th>Attendance_%</th>\n",
       "      <th>Needs_Followup</th>\n",
       "    </tr>\n",
       "  </thead>\n",
       "  <tbody>\n",
       "    <tr>\n",
       "      <th>0</th>\n",
       "      <td>Alice</td>\n",
       "      <td>85.0</td>\n",
       "      <td>90.0</td>\n",
       "      <td>78.000000</td>\n",
       "      <td>42</td>\n",
       "      <td>45</td>\n",
       "      <td>84.333333</td>\n",
       "      <td>93.333333</td>\n",
       "      <td>False</td>\n",
       "    </tr>\n",
       "    <tr>\n",
       "      <th>1</th>\n",
       "      <td>Bob</td>\n",
       "      <td>70.0</td>\n",
       "      <td>88.0</td>\n",
       "      <td>81.166667</td>\n",
       "      <td>41</td>\n",
       "      <td>45</td>\n",
       "      <td>79.722222</td>\n",
       "      <td>91.111111</td>\n",
       "      <td>False</td>\n",
       "    </tr>\n",
       "    <tr>\n",
       "      <th>2</th>\n",
       "      <td>Charlie</td>\n",
       "      <td>95.0</td>\n",
       "      <td>92.0</td>\n",
       "      <td>89.000000</td>\n",
       "      <td>45</td>\n",
       "      <td>45</td>\n",
       "      <td>92.000000</td>\n",
       "      <td>100.000000</td>\n",
       "      <td>False</td>\n",
       "    </tr>\n",
       "    <tr>\n",
       "      <th>3</th>\n",
       "      <td>David</td>\n",
       "      <td>60.0</td>\n",
       "      <td>83.5</td>\n",
       "      <td>80.000000</td>\n",
       "      <td>35</td>\n",
       "      <td>45</td>\n",
       "      <td>74.500000</td>\n",
       "      <td>77.777778</td>\n",
       "      <td>False</td>\n",
       "    </tr>\n",
       "    <tr>\n",
       "      <th>4</th>\n",
       "      <td>Eva</td>\n",
       "      <td>88.0</td>\n",
       "      <td>76.0</td>\n",
       "      <td>85.000000</td>\n",
       "      <td>40</td>\n",
       "      <td>45</td>\n",
       "      <td>83.000000</td>\n",
       "      <td>88.888889</td>\n",
       "      <td>False</td>\n",
       "    </tr>\n",
       "    <tr>\n",
       "      <th>5</th>\n",
       "      <td>Frank</td>\n",
       "      <td>80.0</td>\n",
       "      <td>70.0</td>\n",
       "      <td>75.000000</td>\n",
       "      <td>28</td>\n",
       "      <td>45</td>\n",
       "      <td>75.000000</td>\n",
       "      <td>62.222222</td>\n",
       "      <td>True</td>\n",
       "    </tr>\n",
       "    <tr>\n",
       "      <th>6</th>\n",
       "      <td>Grace</td>\n",
       "      <td>82.0</td>\n",
       "      <td>85.0</td>\n",
       "      <td>80.000000</td>\n",
       "      <td>38</td>\n",
       "      <td>45</td>\n",
       "      <td>82.333333</td>\n",
       "      <td>84.444444</td>\n",
       "      <td>False</td>\n",
       "    </tr>\n",
       "  </tbody>\n",
       "</table>\n",
       "</div>"
      ],
      "text/plain": [
       "   Student  Math  Science    English  Days_Present  Total_Days  Average_Grade  \\\n",
       "0    Alice  85.0     90.0  78.000000            42          45      84.333333   \n",
       "1      Bob  70.0     88.0  81.166667            41          45      79.722222   \n",
       "2  Charlie  95.0     92.0  89.000000            45          45      92.000000   \n",
       "3    David  60.0     83.5  80.000000            35          45      74.500000   \n",
       "4      Eva  88.0     76.0  85.000000            40          45      83.000000   \n",
       "5    Frank  80.0     70.0  75.000000            28          45      75.000000   \n",
       "6    Grace  82.0     85.0  80.000000            38          45      82.333333   \n",
       "\n",
       "   Attendance_%  Needs_Followup  \n",
       "0     93.333333           False  \n",
       "1     91.111111           False  \n",
       "2    100.000000           False  \n",
       "3     77.777778           False  \n",
       "4     88.888889           False  \n",
       "5     62.222222            True  \n",
       "6     84.444444           False  "
      ]
     },
     "execution_count": 31,
     "metadata": {},
     "output_type": "execute_result"
    }
   ],
   "source": [
    "df"
   ]
  },
  {
   "cell_type": "markdown",
   "id": "f5dadf50",
   "metadata": {},
   "source": [
    "`Step 6:` Summary report"
   ]
  },
  {
   "cell_type": "code",
   "execution_count": null,
   "id": "66ddec0f",
   "metadata": {},
   "outputs": [
    {
     "name": "stdout",
     "output_type": "stream",
     "text": [
      "\n",
      "📊 Students Needing Follow-up:\n",
      "  Student  Average_Grade  Attendance_%\n",
      "5   Frank           75.0     62.222222\n"
     ]
    }
   ],
   "source": [
    "\n",
    "print(\"\\n📊 Students Needing Follow-up:\")\n",
    "print(df[df['Needs_Followup']][['Student', 'Average_Grade', 'Attendance_%']])\n",
    "\n"
   ]
  },
  {
   "cell_type": "markdown",
   "id": "2a54c938",
   "metadata": {},
   "source": [
    "`Step 7:` Save cleaned and analyzed data"
   ]
  },
  {
   "cell_type": "code",
   "execution_count": null,
   "id": "7d7b8310",
   "metadata": {},
   "outputs": [],
   "source": [
    "\n",
    "df.to_csv('class_report_cleaned.csv', index=False)\n"
   ]
  },
  {
   "cell_type": "code",
   "execution_count": null,
   "id": "874c339b",
   "metadata": {},
   "outputs": [],
   "source": []
  }
 ],
 "metadata": {
  "kernelspec": {
   "display_name": ".venv",
   "language": "python",
   "name": "python3"
  },
  "language_info": {
   "codemirror_mode": {
    "name": "ipython",
    "version": 3
   },
   "file_extension": ".py",
   "mimetype": "text/x-python",
   "name": "python",
   "nbconvert_exporter": "python",
   "pygments_lexer": "ipython3",
   "version": "3.12.3"
  }
 },
 "nbformat": 4,
 "nbformat_minor": 5
}
