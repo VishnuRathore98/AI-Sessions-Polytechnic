{
 "cells": [
  {
   "cell_type": "markdown",
   "id": "c4193dad",
   "metadata": {},
   "source": [
    "## Basics of NumPy\n",
    "A fundamental package for numerical computing in Python."
   ]
  },
  {
   "cell_type": "markdown",
   "id": "6d8a1861",
   "metadata": {},
   "source": [
    "#### 1. Importing NumPy"
   ]
  },
  {
   "cell_type": "code",
   "execution_count": null,
   "id": "dcc5f02d",
   "metadata": {},
   "outputs": [],
   "source": [
    "# Import the NumPy library (usually as np).\n",
    "\n",
    "\n",
    "import numpy as np"
   ]
  },
  {
   "cell_type": "markdown",
   "id": "248f1aa5",
   "metadata": {},
   "source": [
    "####  2. Creating Arrays"
   ]
  },
  {
   "cell_type": "code",
   "execution_count": null,
   "id": "9c1f36be",
   "metadata": {},
   "outputs": [],
   "source": [
    "# array() creates NumPy arrays.\n",
    "\n",
    "\n",
    "a = np.array([1, 2, 3])           # 1D array\n",
    "b = np.array([[1, 2], [3, 4]])    # 2D array"
   ]
  },
  {
   "cell_type": "code",
   "execution_count": 10,
   "id": "cf6456a2",
   "metadata": {},
   "outputs": [
    {
     "name": "stdout",
     "output_type": "stream",
     "text": [
      "[1 2 3]\n"
     ]
    }
   ],
   "source": [
    "print(a)"
   ]
  },
  {
   "cell_type": "code",
   "execution_count": 11,
   "id": "5130adf3",
   "metadata": {},
   "outputs": [
    {
     "name": "stdout",
     "output_type": "stream",
     "text": [
      "[[1 2]\n",
      " [3 4]]\n"
     ]
    }
   ],
   "source": [
    "print(b)"
   ]
  },
  {
   "cell_type": "markdown",
   "id": "9832e4d6",
   "metadata": {},
   "source": [
    "#### 3. Special Arrays"
   ]
  },
  {
   "cell_type": "code",
   "execution_count": null,
   "id": "b43388b3",
   "metadata": {},
   "outputs": [],
   "source": [
    "# Quick ways to create filled arrays.\n",
    "\n",
    "\n",
    "# c = np.zeros((2, 3))              # Array of zeros\n",
    "# d = np.ones((3, 3))               # Array of ones\n",
    "e = np.eye(3,dtype=int,k=1)                     # Identity matrix\n",
    "\n"
   ]
  },
  {
   "cell_type": "code",
   "execution_count": 22,
   "id": "4225b4c9",
   "metadata": {},
   "outputs": [
    {
     "name": "stdout",
     "output_type": "stream",
     "text": [
      "[[0 1 0]\n",
      " [0 0 1]\n",
      " [0 0 0]]\n"
     ]
    }
   ],
   "source": [
    "print(e)"
   ]
  },
  {
   "cell_type": "markdown",
   "id": "94cfe9bc",
   "metadata": {},
   "source": [
    "####  4. Create Number Sequences"
   ]
  },
  {
   "cell_type": "code",
   "execution_count": null,
   "id": "adf42de7",
   "metadata": {},
   "outputs": [],
   "source": [
    "# Ranges: arange() for steps, linspace() for evenly spaced numbers.\n",
    "\n",
    "\n",
    "# f = np.arange(0, 10, 2)           # Even numbers from 0 to 8\n",
    "g = np.linspace(0, 1, 5)          # 5 numbers from 0 to 1\n"
   ]
  },
  {
   "cell_type": "code",
   "execution_count": 28,
   "id": "8f560619",
   "metadata": {},
   "outputs": [
    {
     "name": "stdout",
     "output_type": "stream",
     "text": [
      "[0.   0.25 0.5  0.75 1.  ]\n"
     ]
    }
   ],
   "source": [
    "print(g)"
   ]
  },
  {
   "cell_type": "markdown",
   "id": "29b1d0e1",
   "metadata": {},
   "source": [
    "####  5. Array Shape & Info"
   ]
  },
  {
   "cell_type": "code",
   "execution_count": null,
   "id": "53a64c69",
   "metadata": {},
   "outputs": [
    {
     "name": "stdout",
     "output_type": "stream",
     "text": [
      "int64\n"
     ]
    }
   ],
   "source": [
    "# Get shape, dimensions, and size of the array.\n",
    "\n",
    "\n",
    "arr = np.array([[1, 2], [3, 4]])\n",
    "\n",
    "# print(arr.shape)       # Shape of array\n",
    "# print(arr.ndim)        # Number of dimensions\n",
    "# print(arr.size)        # Total number of elements\n",
    "print(arr.dtype)       # Data type of array elements\n"
   ]
  },
  {
   "cell_type": "markdown",
   "id": "e34352db",
   "metadata": {},
   "source": [
    "####  6. Indexing and Slicing"
   ]
  },
  {
   "cell_type": "code",
   "execution_count": null,
   "id": "5f0b5e18",
   "metadata": {},
   "outputs": [],
   "source": [
    "# Access rows, columns, or individual elements.\n",
    "\n",
    "\n",
    "arr = np.array([[1, 2, 3], [4, 5, 6]])\n",
    "\n",
    "# print(arr[0, 1])        # 2\n",
    "# print(arr[:, 1])        # Second column\n",
    "# print(arr[1, :])        # Second row\n"
   ]
  },
  {
   "cell_type": "code",
   "execution_count": 35,
   "id": "371e1f23",
   "metadata": {},
   "outputs": [
    {
     "name": "stdout",
     "output_type": "stream",
     "text": [
      "[[1 2 3]\n",
      " [4 5 6]]\n"
     ]
    }
   ],
   "source": [
    "print(arr)"
   ]
  },
  {
   "cell_type": "markdown",
   "id": "d6663007",
   "metadata": {},
   "source": [
    "#### 7. Reshape Arrays"
   ]
  },
  {
   "cell_type": "code",
   "execution_count": null,
   "id": "6240a107",
   "metadata": {},
   "outputs": [],
   "source": [
    "# Change the shape of the array.\n",
    "\n",
    "\n",
    "a = np.arange(6)        # [0, 1, 2, 3, 4, 5]\n",
    "b = a.reshape((2, 3))   # [[0, 1, 2], [3, 4, 5]]\n"
   ]
  },
  {
   "cell_type": "code",
   "execution_count": 44,
   "id": "e54273e3",
   "metadata": {},
   "outputs": [],
   "source": [
    "a = np.arange(7)        # [0, 1, 2, 3, 4, 5]"
   ]
  },
  {
   "cell_type": "code",
   "execution_count": 45,
   "id": "a313b643",
   "metadata": {},
   "outputs": [
    {
     "ename": "ValueError",
     "evalue": "cannot reshape array of size 7 into shape (2,3)",
     "output_type": "error",
     "traceback": [
      "\u001b[31m---------------------------------------------------------------------------\u001b[39m",
      "\u001b[31mValueError\u001b[39m                                Traceback (most recent call last)",
      "\u001b[36mCell\u001b[39m\u001b[36m \u001b[39m\u001b[32mIn[45]\u001b[39m\u001b[32m, line 1\u001b[39m\n\u001b[32m----> \u001b[39m\u001b[32m1\u001b[39m b = \u001b[43ma\u001b[49m\u001b[43m.\u001b[49m\u001b[43mreshape\u001b[49m\u001b[43m(\u001b[49m\u001b[43m(\u001b[49m\u001b[32;43m2\u001b[39;49m\u001b[43m,\u001b[49m\u001b[43m \u001b[49m\u001b[32;43m3\u001b[39;49m\u001b[43m)\u001b[49m\u001b[43m)\u001b[49m   \u001b[38;5;66;03m# [[0, 1, 2], [3, 4, 5]]\u001b[39;00m\n",
      "\u001b[31mValueError\u001b[39m: cannot reshape array of size 7 into shape (2,3)"
     ]
    }
   ],
   "source": [
    "b = a.reshape((2, 3))   # [[0, 1, 2], [3, 4, 5]]"
   ]
  },
  {
   "cell_type": "code",
   "execution_count": 43,
   "id": "0fef1ff8",
   "metadata": {},
   "outputs": [
    {
     "name": "stdout",
     "output_type": "stream",
     "text": [
      "[[0 1 2]\n",
      " [3 4 5]]\n"
     ]
    }
   ],
   "source": [
    "print(b)"
   ]
  },
  {
   "cell_type": "markdown",
   "id": "a8032ed7",
   "metadata": {},
   "source": [
    "#### 6. Mathematical Operations"
   ]
  },
  {
   "cell_type": "code",
   "execution_count": 46,
   "id": "d4b581d8",
   "metadata": {},
   "outputs": [],
   "source": [
    "\n",
    "\n",
    "# Perform math element-wise or use built-in functions like mean().\n",
    "\n",
    "x = np.array([1, 2, 3])\n",
    "y = np.array([4, 5, 6])\n",
    "\n",
    "# print(x + y)         # Element-wise addition\n",
    "# print(x * y)         # Element-wise multiplication\n",
    "\n",
    "# print(np.mean(x))    # Mean\n",
    "# print(np.sum(x))     # Sum\n",
    "# print(np.max(x))     # Max value\n"
   ]
  },
  {
   "cell_type": "code",
   "execution_count": 51,
   "id": "191df53e",
   "metadata": {},
   "outputs": [
    {
     "name": "stdout",
     "output_type": "stream",
     "text": [
      "X:  [1 2 3] \n",
      " Y:  [4 5 6]\n"
     ]
    }
   ],
   "source": [
    "print(\"X: \",x,\"\\n\",\"Y: \",y)"
   ]
  },
  {
   "cell_type": "code",
   "execution_count": 68,
   "id": "42553698",
   "metadata": {},
   "outputs": [
    {
     "data": {
      "text/plain": [
       "np.float64(3.5)"
      ]
     },
     "execution_count": 68,
     "metadata": {},
     "output_type": "execute_result"
    }
   ],
   "source": [
    "np.mean(np.concatenate((x,y)))"
   ]
  },
  {
   "cell_type": "code",
   "execution_count": null,
   "id": "3732d42a",
   "metadata": {},
   "outputs": [],
   "source": []
  },
  {
   "cell_type": "markdown",
   "id": "914dbba5",
   "metadata": {},
   "source": [
    "####  9. Filter with Conditions"
   ]
  },
  {
   "cell_type": "code",
   "execution_count": null,
   "id": "f5cae570",
   "metadata": {},
   "outputs": [
    {
     "name": "stdout",
     "output_type": "stream",
     "text": [
      "[4 5]\n"
     ]
    }
   ],
   "source": [
    "# Get only the values that match a condition.\n",
    "\n",
    "\n",
    "arr = np.array([1, 2, 3, 4, 5])\n",
    "print(arr[arr > 3])     # [4, 5]\n"
   ]
  },
  {
   "cell_type": "code",
   "execution_count": null,
   "id": "8e54209e",
   "metadata": {},
   "outputs": [],
   "source": [
    "np.array([1, 2, 3, 4, 5])>3"
   ]
  },
  {
   "cell_type": "markdown",
   "id": "7e0c1f07",
   "metadata": {},
   "source": [
    "####  10. Random Numbers"
   ]
  },
  {
   "cell_type": "code",
   "execution_count": null,
   "id": "3ed19305",
   "metadata": {},
   "outputs": [],
   "source": [
    "# Generate random arrays.\n",
    "\n",
    "\n",
    "\n",
    "np.random.rand(2, 2)        # Random floats [0, 1)\n",
    "np.random.randint(0, 10, 5) # Random ints between 0–9"
   ]
  },
  {
   "cell_type": "markdown",
   "id": "de42dd58",
   "metadata": {},
   "source": [
    "#### 11. Saving and Loading Arrays"
   ]
  },
  {
   "cell_type": "code",
   "execution_count": null,
   "id": "9e4a9fee",
   "metadata": {},
   "outputs": [],
   "source": [
    "# Store arrays for later use.\n",
    "\n",
    "\n",
    "\n",
    "arr = np.array([1, 2, 3])\n",
    "np.save('my_array.npy', arr)\n",
    "loaded = np.load('my_array.npy')\n",
    "print(loaded)\n"
   ]
  },
  {
   "cell_type": "markdown",
   "id": "92450ef8",
   "metadata": {},
   "source": [
    "### Project: Student Grades Analyzer\n",
    "\n",
    "**Objective:**\n",
    "\n",
    "- Create a NumPy-based program that:\n",
    "\n",
    "- Stores students' scores.\n",
    "\n",
    "- Calculates average, highest, and lowest scores.\n",
    "\n",
    "- Finds students who passed or failed."
   ]
  },
  {
   "cell_type": "markdown",
   "id": "7439071b",
   "metadata": {},
   "source": [
    "**Scenario:**\n",
    "\n",
    "You have the scores of 5 students in 3 subjects: `Math`, `Science`, and `English`. You want to analyze their performance."
   ]
  },
  {
   "cell_type": "markdown",
   "id": "2205c4d0",
   "metadata": {},
   "source": [
    "-  1. Create the Data\n",
    "    - `np.array([1, 2, 3])` \n",
    "-  2. Basic Info\n",
    "    - `scores.shape`\n",
    "-  3. Average Score per Student\n",
    "    - `np.mean(scores, axis=1)`\n",
    "-  4. Average Score per Subject\n",
    "    - `np.mean(scores, axis=0)`\n",
    "-  5. Find the Highest & Lowest Scores\n",
    "    - `np.max(scores)`\n",
    "-  6. Determine Pass/Fail (a student passes if their average is 60 or more.)\n",
    "    - `np.where(passed)[0]`"
   ]
  },
  {
   "cell_type": "code",
   "execution_count": null,
   "id": "9c6d2cd1",
   "metadata": {},
   "outputs": [],
   "source": [
    "# 1. Create the Data\n",
    "\n",
    "import numpy as np\n",
    "\n",
    "# Each row = a student, each column = a subject\n",
    "scores = np.array([\n",
    "    [85, 78, 90],\n",
    "    [66, 70, 60],\n",
    "    [95, 88, 92],\n",
    "    [45, 50, 52],\n",
    "    [75, 80, 85]\n",
    "])\n"
   ]
  },
  {
   "cell_type": "code",
   "execution_count": null,
   "id": "41987969",
   "metadata": {},
   "outputs": [],
   "source": [
    "# 2. Basic Info\n",
    "\n",
    "print(\"Shape of scores:\", scores.shape)\n",
    "print(\"Total students:\", scores.shape[0])\n",
    "print(\"Subjects:\", scores.shape[1])\n"
   ]
  },
  {
   "cell_type": "code",
   "execution_count": null,
   "id": "2f9bc62b",
   "metadata": {},
   "outputs": [],
   "source": [
    "# 3. Average Score per Student\n",
    "\n",
    "student_avg = np.mean(scores, axis=1)\n",
    "print(\"Average scores per student:\", student_avg)\n"
   ]
  },
  {
   "cell_type": "code",
   "execution_count": null,
   "id": "1505c64e",
   "metadata": {},
   "outputs": [],
   "source": [
    "# 4. Average Score per Subject\n",
    "\n",
    "subject_avg = np.mean(scores, axis=0)\n",
    "print(\"Average scores per subject (Math, Science, English):\", subject_avg)\n"
   ]
  },
  {
   "cell_type": "code",
   "execution_count": null,
   "id": "d50af543",
   "metadata": {},
   "outputs": [],
   "source": [
    "# 5. Find the Highest & Lowest Scores\n",
    "\n",
    "print(\"Highest score overall:\", np.max(scores))\n",
    "print(\"Lowest score overall:\", np.min(scores))\n"
   ]
  },
  {
   "cell_type": "code",
   "execution_count": null,
   "id": "22a6f93e",
   "metadata": {},
   "outputs": [],
   "source": [
    "# 6. Determine Pass/Fail\n",
    "# Assume a student passes if their average is 60 or more.\n",
    "\n",
    "passed = student_avg >= 60\n",
    "print(\"Passed students:\", np.where(passed)[0])  # Show indices\n",
    "print(\"Failed students:\", np.where(~passed)[0])\n"
   ]
  },
  {
   "cell_type": "code",
   "execution_count": null,
   "id": "a6cc9b5d",
   "metadata": {},
   "outputs": [],
   "source": [
    "# Optional Challenge Ideas\n",
    "\n",
    "# Add student names and match them with results.\n",
    "\n",
    "# Add a feature to input new student scores.\n",
    "\n",
    "# Find top-performing student(s)."
   ]
  },
  {
   "cell_type": "code",
   "execution_count": null,
   "id": "2fc6e5bb",
   "metadata": {},
   "outputs": [],
   "source": []
  }
 ],
 "metadata": {
  "kernelspec": {
   "display_name": ".venv",
   "language": "python",
   "name": "python3"
  },
  "language_info": {
   "codemirror_mode": {
    "name": "ipython",
    "version": 3
   },
   "file_extension": ".py",
   "mimetype": "text/x-python",
   "name": "python",
   "nbconvert_exporter": "python",
   "pygments_lexer": "ipython3",
   "version": "3.12.3"
  }
 },
 "nbformat": 4,
 "nbformat_minor": 5
}
