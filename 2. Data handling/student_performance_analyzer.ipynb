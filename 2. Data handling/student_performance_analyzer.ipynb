{
 "cells": [
  {
   "cell_type": "markdown",
   "id": "86347a6d",
   "metadata": {},
   "source": [
    "### Project: Student Performance Analyzer (NumPy + Pandas Edition)\n",
    "\n",
    "🔧 What It Should Cover:\n",
    "\n",
    "- NumPy arrays for numeric operations\n",
    "\n",
    "- Pandas DataFrames for structured data\n",
    "\n",
    "- Combining both for efficient analysis"
   ]
  },
  {
   "cell_type": "code",
   "execution_count": null,
   "id": "8bda9c34",
   "metadata": {
    "vscode": {
     "languageId": "plaintext"
    }
   },
   "outputs": [],
   "source": []
  },
  {
   "cell_type": "code",
   "execution_count": null,
   "id": "9f5040b5",
   "metadata": {
    "vscode": {
     "languageId": "plaintext"
    }
   },
   "outputs": [],
   "source": [
    "import numpy as np\n",
    "import pandas as pd\n",
    "\n",
    "# Step 1: Load data with Pandas\n",
    "df = pd.read_csv('students.csv')\n",
    "print(\"📄 Original Data:\")\n",
    "print(df)\n",
    "\n",
    "# Step 2: Convert grade columns to a NumPy array\n",
    "grades = df[['Math', 'English', 'Science']].to_numpy()\n",
    "print(\"\\n📐 NumPy Grades Array:\")\n",
    "print(grades)\n",
    "\n",
    "# Step 3: Calculate average marks using NumPy\n",
    "averages = np.mean(grades, axis=1)\n",
    "df['Average'] = averages\n",
    "\n",
    "# Step 4: Calculate standard deviation (for variation)\n",
    "df['Std_Dev'] = np.std(grades, axis=1)\n",
    "\n",
    "# Step 5: Add custom performance label\n",
    "df['Performance'] = np.where(df['Average'] >= 85, 'Excellent',\n",
    "                     np.where(df['Average'] >= 70, 'Good', 'Needs Improvement'))\n",
    "\n",
    "# Step 6: Print summary\n",
    "print(\"\\n📊 Final Report:\")\n",
    "print(df[['Name', 'Average', 'Std_Dev', 'Performance']])\n",
    "\n",
    "# Step 7: Save results\n",
    "df.to_csv('student_numpy_pandas_report.csv', index=False)\n"
   ]
  },
  {
   "cell_type": "code",
   "execution_count": null,
   "id": "932bd45a",
   "metadata": {
    "vscode": {
     "languageId": "plaintext"
    }
   },
   "outputs": [],
   "source": []
  },
  {
   "cell_type": "code",
   "execution_count": null,
   "id": "8b495792",
   "metadata": {
    "vscode": {
     "languageId": "plaintext"
    }
   },
   "outputs": [],
   "source": []
  },
  {
   "cell_type": "code",
   "execution_count": null,
   "id": "c5440769",
   "metadata": {
    "vscode": {
     "languageId": "plaintext"
    }
   },
   "outputs": [],
   "source": []
  },
  {
   "cell_type": "code",
   "execution_count": null,
   "id": "0cf6a9f2",
   "metadata": {
    "vscode": {
     "languageId": "plaintext"
    }
   },
   "outputs": [],
   "source": []
  },
  {
   "cell_type": "code",
   "execution_count": null,
   "id": "6d3a02ef",
   "metadata": {
    "vscode": {
     "languageId": "plaintext"
    }
   },
   "outputs": [],
   "source": []
  }
 ],
 "metadata": {
  "language_info": {
   "name": "python"
  }
 },
 "nbformat": 4,
 "nbformat_minor": 5
}
